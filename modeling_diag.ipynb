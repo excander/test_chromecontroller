{
 "cells": [
  {
   "cell_type": "code",
   "execution_count": 54,
   "metadata": {},
   "outputs": [],
   "source": [
    "import json\n",
    "import pandas as pd\n",
    "import numpy as np"
   ]
  },
  {
   "cell_type": "code",
   "execution_count": 55,
   "metadata": {},
   "outputs": [],
   "source": [
    "with open('../top1m_handlers_chromecontroller.txt', 'r') as f:\n",
    "    data = json.load(f)"
   ]
  },
  {
   "cell_type": "code",
   "execution_count": 56,
   "metadata": {},
   "outputs": [
    {
     "name": "stdout",
     "output_type": "stream",
     "text": [
      "1176\n"
     ]
    }
   ],
   "source": [
    "print(len(data))"
   ]
  },
  {
   "cell_type": "code",
   "execution_count": 57,
   "metadata": {},
   "outputs": [],
   "source": [
    "# url = list(data.keys())[100]"
   ]
  },
  {
   "cell_type": "code",
   "execution_count": 58,
   "metadata": {},
   "outputs": [],
   "source": [
    "docs = {}\n",
    "all_docs_listeners_types = set()"
   ]
  },
  {
   "cell_type": "code",
   "execution_count": 59,
   "metadata": {},
   "outputs": [
    {
     "data": {
      "text/plain": [
       "1039"
      ]
     },
     "execution_count": 59,
     "metadata": {},
     "output_type": "execute_result"
    }
   ],
   "source": [
    "for url, tpl in data.items():\n",
    "    listeners = tpl[0]['result']['listeners']\n",
    "    listeners_types = []\n",
    "    for listener in listeners:\n",
    "        l_type = listener['type']\n",
    "        all_docs_listeners_types.add(l_type)\n",
    "        listeners_types.append(l_type)\n",
    "    docs[url] = listeners_types\n",
    "#     print(docs[url])\n",
    "len(all_docs_listeners_types)"
   ]
  },
  {
   "cell_type": "code",
   "execution_count": 60,
   "metadata": {},
   "outputs": [],
   "source": [
    "# docs"
   ]
  },
  {
   "cell_type": "code",
   "execution_count": 61,
   "metadata": {},
   "outputs": [],
   "source": [
    "wins = {}\n",
    "all_wins_listeners_types = set()"
   ]
  },
  {
   "cell_type": "code",
   "execution_count": 62,
   "metadata": {},
   "outputs": [
    {
     "data": {
      "text/plain": [
       "985"
      ]
     },
     "execution_count": 62,
     "metadata": {},
     "output_type": "execute_result"
    }
   ],
   "source": [
    "for url, tpl in data.items():\n",
    "    listeners = tpl[1]['result']['listeners']\n",
    "    listeners_types = []\n",
    "    for listener in listeners:\n",
    "        l_type = listener['type']\n",
    "        all_wins_listeners_types.add(l_type)\n",
    "        listeners_types.append(l_type)\n",
    "    wins[url] = listeners_types\n",
    "#     print(docs[url])\n",
    "len(all_wins_listeners_types)"
   ]
  },
  {
   "cell_type": "code",
   "execution_count": 63,
   "metadata": {},
   "outputs": [],
   "source": [
    "# wins"
   ]
  },
  {
   "cell_type": "code",
   "execution_count": 64,
   "metadata": {},
   "outputs": [],
   "source": [
    "# angular_urls = pd.read_csv('../builtwith_statistics/woocommerce.csv', sep = '\\t')"
   ]
  },
  {
   "cell_type": "code",
   "execution_count": 65,
   "metadata": {},
   "outputs": [],
   "source": [
    "angular_df = pd.read_csv('../builtwith_statistics/All-Live-Angular-JS-Sites.csv', skiprows=1)\n",
    "polymer_df = pd.read_csv('../builtwith_statistics/All-Live-Polymer-Sites.csv', skiprows=1)\n",
    "react_df = pd.read_csv('../builtwith_statistics/All-Live-React-Sites.csv', skiprows=1)\n",
    "vue_df = pd.read_csv('../builtwith_statistics/All-Live-Vue-Sites.csv', skiprows=1)\n",
    "wordpress_df = pd.read_csv('../builtwith_statistics/All-Live-WordPress-Sites.csv', skiprows=1)\n",
    "joomla_df = pd.read_csv('../builtwith_statistics/All-Live-Joomla!-Sites.csv', skiprows=1)\n",
    "drupal_df = pd.read_csv('../builtwith_statistics/All-Live-Drupal-Sites.csv', skiprows=1)\n",
    "django_df = pd.read_csv('../builtwith_statistics/All-Live-Django-Language-Sites.csv', skiprows=1)\n",
    "laravel_df = pd.read_csv('../builtwith_statistics/All-Live-Laravel-Sites.csv', skiprows=1)\n",
    "corejs_df = pd.read_csv('../builtwith_statistics/All-Live-core-js-Sites.csv', skiprows=1)"
   ]
  },
  {
   "cell_type": "code",
   "execution_count": 66,
   "metadata": {},
   "outputs": [],
   "source": [
    "all_urls = set()\n",
    "angular_urls = set() \n",
    "polymer_urls = set()\n",
    "react_urls = set()\n",
    "vue_urls = set()\n",
    "wordpress_urls = set()\n",
    "joomla_urls = set()\n",
    "drupal_urls = set() \n",
    "django_urls = set()\n",
    "laravel_urls = set()\n",
    "corejs_urls = set()"
   ]
  },
  {
   "cell_type": "code",
   "execution_count": 67,
   "metadata": {},
   "outputs": [],
   "source": [
    "with open('angular_urls.txt', 'w') as f:\n",
    "    for urls in angular_df['Location on Site']:\n",
    "        angular_url = urls.replace('*', '').split(';')[0].replace(' mobile', '').replace('/', '')\n",
    "        all_urls.add(angular_url)\n",
    "        angular_urls.add(angular_url)\n",
    "        print(angular_urls, file = f)"
   ]
  },
  {
   "cell_type": "code",
   "execution_count": 68,
   "metadata": {},
   "outputs": [],
   "source": [
    "with open('polymer_urls.txt', 'w') as f:\n",
    "    for urls in polymer_df['Location on Site']:\n",
    "        polymer_url = urls.replace('*', '').split(';')[0].replace(' mobile', '').replace('/', '')\n",
    "        all_urls.add(polymer_url)\n",
    "        polymer_urls.add(polymer_url)\n",
    "        print(urls.replace('*', '').split(';')[0].replace(' mobile', '').replace('/', ''), file = f)"
   ]
  },
  {
   "cell_type": "code",
   "execution_count": 69,
   "metadata": {},
   "outputs": [],
   "source": [
    "with open('react_urls.txt', 'w') as f:\n",
    "    for urls in react_df['Location on Site']:\n",
    "        react_url = urls.replace('*', '').split(';')[0].replace(' mobile', '').replace('/', '')\n",
    "        react_urls.add(react_url)\n",
    "        all_urls.add(react_url)\n",
    "        print(urls.replace('*', '').split(';')[0].replace(' mobile', '').replace('/', ''), file = f)"
   ]
  },
  {
   "cell_type": "code",
   "execution_count": 70,
   "metadata": {},
   "outputs": [],
   "source": [
    "with open('vue_urls.txt', 'w') as f:\n",
    "    for urls in vue_df['Location on Site']:\n",
    "        vue_url = urls.replace('*', '').split(';')[0].replace(' mobile', '').replace('/', '')\n",
    "        all_urls.add(vue_url)\n",
    "        vue_urls.add(vue_url)\n",
    "        print(urls.replace('*', '').split(';')[0].replace(' mobile', '').replace('/', ''), file = f)"
   ]
  },
  {
   "cell_type": "code",
   "execution_count": 71,
   "metadata": {},
   "outputs": [],
   "source": [
    "with open('wordpress_urls.txt', 'w') as f:\n",
    "    for urls in wordpress_df['Location on Site']:\n",
    "        wordpress_url = urls.replace('*', '').split(';')[0].replace(' mobile', '').replace('/', '')\n",
    "        all_urls.add(wordpress_url)\n",
    "        wordpress_urls.add(wordpress_url)\n",
    "        print(urls.replace('*', '').split(';')[0].replace(' mobile', '').replace('/', ''), file = f)"
   ]
  },
  {
   "cell_type": "code",
   "execution_count": 72,
   "metadata": {},
   "outputs": [],
   "source": [
    "with open('joomla_urls.txt', 'w') as f:\n",
    "    for urls in joomla_df['Location on Site']:\n",
    "        joomla_url = urls.replace('*', '').split(';')[0].replace(' mobile', '').replace('/', '')\n",
    "        all_urls.add(joomla_url)\n",
    "        joomla_urls.add(joomla_url)\n",
    "        print(urls.replace('*', '').split(';')[0].replace(' mobile', '').replace('/', ''), file = f)"
   ]
  },
  {
   "cell_type": "code",
   "execution_count": 73,
   "metadata": {},
   "outputs": [],
   "source": [
    "with open('drupal_urls.txt', 'w') as f:\n",
    "    for urls in drupal_df['Location on Site']:\n",
    "        drupal_url = urls.replace('*', '').split(';')[0].replace(' mobile', '').replace('/', '')\n",
    "        all_urls.add(drupal_url)\n",
    "        drupal_urls.add(drupal_url)\n",
    "        print(urls.replace('*', '').split(';')[0].replace(' mobile', '').replace('/', ''), file = f)"
   ]
  },
  {
   "cell_type": "code",
   "execution_count": 74,
   "metadata": {},
   "outputs": [],
   "source": [
    "with open('django_urls.txt', 'w') as f:\n",
    "    for urls in django_df['Location on Site']:\n",
    "        django_url = urls.replace('*', '').split(';')[0].replace(' mobile', '').replace('/', '')\n",
    "        all_urls.add(django_url)\n",
    "        django_urls.add(django_url)\n",
    "        print(urls.replace('*', '').split(';')[0].replace(' mobile', '').replace('/', ''), file = f)"
   ]
  },
  {
   "cell_type": "code",
   "execution_count": 75,
   "metadata": {},
   "outputs": [],
   "source": [
    "with open('laravel_urls.txt', 'w') as f:\n",
    "    for urls in laravel_df['Location on Site']:\n",
    "        laravel_url = urls.replace('*', '').split(';')[0].replace(' mobile', '').replace('/', '')\n",
    "        all_urls.add(laravel_url)\n",
    "        laravel_urls.add(laravel_url)\n",
    "        print(urls.replace('*', '').split(';')[0].replace(' mobile', '').replace('/', ''), file = f)"
   ]
  },
  {
   "cell_type": "code",
   "execution_count": 76,
   "metadata": {},
   "outputs": [],
   "source": [
    "with open('corejs_urls.txt', 'w') as f:\n",
    "    for urls in corejs_df['Location on Site']:\n",
    "        corejs_url = urls.replace('*', '').split(';')[0].replace(' mobile', '').replace('/', '')\n",
    "        all_urls.add(corejs_url)\n",
    "        corejs_urls.add(corejs_url)\n",
    "        print(urls.replace('*', '').split(';')[0].replace(' mobile', '').replace('/', ''), file = f)"
   ]
  },
  {
   "cell_type": "code",
   "execution_count": null,
   "metadata": {},
   "outputs": [],
   "source": []
  },
  {
   "cell_type": "code",
   "execution_count": 77,
   "metadata": {},
   "outputs": [],
   "source": [
    "with open('all10_urls.txt', 'w') as f:\n",
    "    for urls in all_urls:\n",
    "        print(urls, file = f)"
   ]
  },
  {
   "cell_type": "code",
   "execution_count": 78,
   "metadata": {},
   "outputs": [
    {
     "data": {
      "text/plain": [
       "{1, 2, 3, 7}"
      ]
     },
     "execution_count": 78,
     "metadata": {},
     "output_type": "execute_result"
    }
   ],
   "source": [
    "a = {1,2}\n",
    "b = {1, 3,4}\n",
    "c = {1,4,7}\n",
    "a^b^c"
   ]
  },
  {
   "cell_type": "code",
   "execution_count": 79,
   "metadata": {},
   "outputs": [],
   "source": [
    "urls_symm_diff = angular_urls ^ polymer_urls ^ react_urls ^ vue_urls ^ wordpress_urls ^ joomla_urls ^ drupal_urls ^ django_urls ^ laravel_urls ^ corejs_urls\n",
    "urls_common = all_urls - urls_symm_diff"
   ]
  },
  {
   "cell_type": "code",
   "execution_count": 80,
   "metadata": {},
   "outputs": [
    {
     "name": "stdout",
     "output_type": "stream",
     "text": [
      "True\n",
      "True\n"
     ]
    }
   ],
   "source": [
    "url_to_class_dict = {}\n",
    "print('t-mobile.com' in all_urls)\n",
    "print('t-mobile.com' in urls_symm_diff)"
   ]
  },
  {
   "cell_type": "code",
   "execution_count": 81,
   "metadata": {},
   "outputs": [
    {
     "data": {
      "text/plain": [
       "{'adminctr.bleacherreport.com',\n",
       " 'alerta.khanacademy.org',\n",
       " 'answers.thenextweb.com',\n",
       " 'api.care.king.com',\n",
       " 'archives.newyorker.com',\n",
       " 'b2b.kbb.com',\n",
       " 'belk.com',\n",
       " 'bettycrocker.com',\n",
       " 'billboard.com',\n",
       " 'bizjournals.com',\n",
       " 'blog.creditkarma.com',\n",
       " 'bmwusa.com',\n",
       " 'bodybuilding.com',\n",
       " 'bookclubs.barnesandnoble.com',\n",
       " 'bradsdeals.com',\n",
       " 'braingames.nationalgeographic.com',\n",
       " 'capitalone.com',\n",
       " 'careers.tripadvisor.com',\n",
       " 'cars.com',\n",
       " 'cartwheel.target.com',\n",
       " 'cbc.ca',\n",
       " 'cdc.gov',\n",
       " 'charlotteobserver.com',\n",
       " 'chaseprivateclient.chase.com',\n",
       " 'chevrolet.com',\n",
       " 'chewy.com',\n",
       " 'chipotle.com',\n",
       " 'choicehotels.com',\n",
       " 'cisco.com',\n",
       " 'citi.com',\n",
       " 'cnet.com',\n",
       " 'community.newegg.com',\n",
       " 'consumercellular.com',\n",
       " 'creditcards.com',\n",
       " 'cvs.com',\n",
       " 'data.census.gov',\n",
       " 'delta.oxforddictionaries.com',\n",
       " 'develop.battle.net',\n",
       " 'dhds.cdc.gov',\n",
       " 'dvd.netflix.com',\n",
       " 'environment.capitalone.com',\n",
       " 'eu.battle.net',\n",
       " 'forums-es.bestbuy.com',\n",
       " 'hiring.baltimoresun.com',\n",
       " 'hiring.chicagotribune.com',\n",
       " 'hiring.nydailynews.com',\n",
       " 'hiring.orlandosentinel.com',\n",
       " 'insights.thepennyhoarder.com',\n",
       " 'internet.cox.com',\n",
       " 'ispspeedindex.netflix.com',\n",
       " 'kentucky.com',\n",
       " 'kohls.com',\n",
       " 'kroger.com',\n",
       " 'membership-prdv.navyfederal.org',\n",
       " 'mycostcoaccount.costco.com',\n",
       " 'nasdaq.com',\n",
       " 'ncaa.com',\n",
       " 'nesngo.nesn.com',\n",
       " 'newsobserver.com',\n",
       " 'nfl.com',\n",
       " 'nintendo.com',\n",
       " 'npr.org',\n",
       " 'nvidia.com',\n",
       " 'oreillyauto.com',\n",
       " 'parts.nissanusa.com',\n",
       " 'paypanel.chicagotribune.com',\n",
       " 'portal.office.com',\n",
       " 'premium.outlook.com',\n",
       " 'properties.chase.com',\n",
       " 'puzzles.chron.com',\n",
       " 'qa.talk.categories.collegeconfidential.com',\n",
       " 'reset.cbs.com',\n",
       " 'schedules.chewy.com',\n",
       " 'shop.newsweek.com',\n",
       " 'shopping.oregonlive.com',\n",
       " 'support.box.com',\n",
       " 'survey.bizrate.com',\n",
       " 'tableau-lle.kohls.com',\n",
       " 'tdameritrade.com',\n",
       " 'thestate.com',\n",
       " 'thestranger.com',\n",
       " 'timewarnercable.com',\n",
       " 'toyota.com',\n",
       " 'tracfone.com',\n",
       " 'trackpass.nascar.com',\n",
       " 'tripadvisor.com',\n",
       " 'tv.cbs.com',\n",
       " 'twentytwowords.com',\n",
       " 'university.thechive.com',\n",
       " 'vendor.tractorsupply.com',\n",
       " 'videos.techradar.com',\n",
       " 'watchlist.cnbc.com'}"
      ]
     },
     "execution_count": 81,
     "metadata": {},
     "output_type": "execute_result"
    }
   ],
   "source": [
    "vue_urls ^ angular_urls"
   ]
  },
  {
   "cell_type": "markdown",
   "metadata": {},
   "source": [
    "### Подготовка датасета"
   ]
  },
  {
   "cell_type": "code",
   "execution_count": 82,
   "metadata": {},
   "outputs": [],
   "source": [
    "from sklearn.feature_extraction.text import CountVectorizer"
   ]
  },
  {
   "cell_type": "code",
   "execution_count": 83,
   "metadata": {},
   "outputs": [],
   "source": [
    "class Dataset():\n",
    "\n",
    "    def __init__(self, filename, attr = 'docs'):\n",
    "        self.filename = filename\n",
    "        self.result_dict = {}\n",
    "        \n",
    "        urls =  list(angular_urls)  +\\\n",
    "                 list(polymer_urls) +\\\n",
    "                 list(react_urls) +\\\n",
    "                 list(vue_urls) +\\\n",
    "                 list(wordpress_urls) +\\\n",
    "                 list(joomla_urls) +\\\n",
    "                 list(drupal_urls)  +\\\n",
    "                 list(django_urls) +\\\n",
    "                 list(laravel_urls) +\\\n",
    "                 list(corejs_urls)\n",
    "            \n",
    "        with open(self.filename, 'r') as f:\n",
    "            self.data_json = json.load(f)\n",
    "        \n",
    "        attr_num = 0\n",
    "        if attr == 'docs':\n",
    "            attr_num = 0\n",
    "        elif attr == 'wins':\n",
    "            attr_num = 1\n",
    "        \n",
    "        for url, tpl in self.data_json.items():\n",
    "            listeners = tpl[attr_num]['result']['listeners']\n",
    "            listeners_types = []\n",
    "            for listener in listeners:\n",
    "                l_type = listener['type']\n",
    "                listeners_types.append(l_type)\n",
    "            self.result_dict[url] = listeners_types[:]\n",
    "            \n",
    "        self.corpus = []\n",
    "        self.target = []\n",
    "        for i,u in enumerate(urls):\n",
    "            self.corpus.append(' '.join(self.result_dict.get(\"https://\" + u.strip() + '/', [])))\n",
    "            self.target.append(i // 50)\n",
    "        self.target = np.array(self.target)\n",
    "            \n",
    "                \n",
    "    def count_vectorizer(self):\n",
    "#         corpus = [' '.join(lst) for lst in dataset_docs.result_dict.values()]\n",
    "        vectorizer = CountVectorizer()\n",
    "        X = vectorizer.fit_transform(self.corpus)\n",
    "        return X.toarray()\n",
    "    \n",
    "    def count_vectorizer_names_sum(self):\n",
    "        vectorizer = CountVectorizer()\n",
    "        clusters = vectorizer.fit_transform(self.corpus)\n",
    "        return vectorizer.get_feature_names(), np.asarray(clusters.sum(axis=0))\n",
    "    \n",
    "#     def target(self):\n",
    "#         return len(self.result_dict.keys())\n",
    "        "
   ]
  },
  {
   "cell_type": "code",
   "execution_count": 84,
   "metadata": {},
   "outputs": [],
   "source": [
    "dataset_docs = Dataset(\"all10_res.txt\", 'docs')\n",
    "X_docs = dataset_docs.count_vectorizer()\n",
    "y_docs = dataset_docs.target"
   ]
  },
  {
   "cell_type": "code",
   "execution_count": 85,
   "metadata": {},
   "outputs": [
    {
     "data": {
      "text/plain": [
       "((500, 505), (500,))"
      ]
     },
     "execution_count": 85,
     "metadata": {},
     "output_type": "execute_result"
    }
   ],
   "source": [
    "X_docs.shape, y_docs.shape"
   ]
  },
  {
   "cell_type": "code",
   "execution_count": 86,
   "metadata": {},
   "outputs": [],
   "source": [
    "dataset_wins = Dataset(\"all10_res.txt\", 'wins')\n",
    "X_wins = dataset_wins.count_vectorizer()\n",
    "y_wins = dataset_wins.target"
   ]
  },
  {
   "cell_type": "code",
   "execution_count": 111,
   "metadata": {},
   "outputs": [
    {
     "data": {
      "text/plain": [
       "((500, 328), (500,))"
      ]
     },
     "execution_count": 111,
     "metadata": {},
     "output_type": "execute_result"
    }
   ],
   "source": [
    "X_wins.shape, y_wins.shape"
   ]
  },
  {
   "cell_type": "code",
   "execution_count": 112,
   "metadata": {},
   "outputs": [],
   "source": [
    "# losses = []\n",
    "# predictions = {'id': test['id']}\n",
    "# for class_name in class_names:\n",
    "#     train_target = train[class_name]\n",
    "#     classifier = RandomForestClassifier(bootstrap=True, class_weight=None, criterion='gini',\n",
    "#             max_depth=100, max_features=1000, max_leaf_nodes=None,\n",
    "#             min_impurity_decrease=0.0, min_impurity_split=None,\n",
    "#             min_samples_leaf=3, min_samples_split=10,\n",
    "#             min_weight_fraction_leaf=0.0, n_estimators=10, n_jobs=1,\n",
    "#             oob_score=False, random_state=None, verbose=0,\n",
    "#             warm_start=False)\n",
    "\n",
    "#     cv_loss = np.mean(cross_val_score(classifier, train_features, train_target, cv=3, scoring='f1_micro'))\n",
    "#     losses.append(cv_loss)\n",
    "#     print('CV score for class {} is {}'.format(class_name, cv_loss))\n",
    "\n",
    "#     classifier.fit(train_features, train_target)\n",
    "#     predictions[class_name] = expit(logit(classifier.predict_proba(test_features)[:, 1]))\n",
    "\n",
    "# print('Total CV score is {}'.format(np.mean(losses)))"
   ]
  },
  {
   "cell_type": "markdown",
   "metadata": {},
   "source": [
    "### Построение модели Random Forest Classifier"
   ]
  },
  {
   "cell_type": "code",
   "execution_count": 163,
   "metadata": {},
   "outputs": [],
   "source": [
    "from sklearn.ensemble import RandomForestClassifier"
   ]
  },
  {
   "cell_type": "code",
   "execution_count": 164,
   "metadata": {},
   "outputs": [
    {
     "name": "stderr",
     "output_type": "stream",
     "text": [
      "C:\\Users\\waffpad\\Anaconda3\\lib\\site-packages\\sklearn\\ensemble\\forest.py:246: FutureWarning: The default value of n_estimators will change from 10 in version 0.20 to 100 in 0.22.\n",
      "  \"10 in version 0.20 to 100 in 0.22.\", FutureWarning)\n"
     ]
    },
    {
     "data": {
      "text/plain": [
       "RandomForestClassifier(bootstrap=True, class_weight=None, criterion='gini',\n",
       "            max_depth=2, max_features='auto', max_leaf_nodes=None,\n",
       "            min_impurity_decrease=0.0, min_impurity_split=None,\n",
       "            min_samples_leaf=1, min_samples_split=2,\n",
       "            min_weight_fraction_leaf=0.0, n_estimators=10, n_jobs=None,\n",
       "            oob_score=False, random_state=0, verbose=0, warm_start=False)"
      ]
     },
     "execution_count": 164,
     "metadata": {},
     "output_type": "execute_result"
    }
   ],
   "source": [
    "clf = RandomForestClassifier(max_depth=2, random_state=0)\n",
    "clf.fit(X_docs, y_docs)"
   ]
  },
  {
   "cell_type": "code",
   "execution_count": 165,
   "metadata": {},
   "outputs": [],
   "source": [
    "from sklearn.datasets import load_wine\n",
    "from sklearn.ensemble import RandomForestClassifier\n",
    "from sklearn.metrics import accuracy_score, f1_score\n",
    "from sklearn.model_selection import KFold, train_test_split, GridSearchCV, RandomizedSearchCV\n",
    "from sklearn.tree import DecisionTreeClassifier\n",
    "\n",
    "from scipy.stats import randint as randint"
   ]
  },
  {
   "cell_type": "code",
   "execution_count": 166,
   "metadata": {},
   "outputs": [
    {
     "name": "stdout",
     "output_type": "stream",
     "text": [
      "{'max_depth': 5, 'min_samples_split': 6, 'n_estimators': 500}\n",
      "0.19726485083388695\n",
      "Wall time: 17 s\n"
     ]
    }
   ],
   "source": [
    "%%time\n",
    "param_grid = {\n",
    "    'max_depth': randint(2, 8),\n",
    "    'min_samples_split': randint(5, 10),\n",
    "    'n_estimators':[5,50,100,500],\n",
    "    }\n",
    "\n",
    "cv = KFold(n_splits=5, random_state=123, shuffle=True)\n",
    "\n",
    "model_RF = RandomForestClassifier(random_state=None,\n",
    "                                  class_weight='balanced',\n",
    "                                  n_jobs=-1)\n",
    "\n",
    "random_search = RandomizedSearchCV(model_RF, param_distributions=param_grid,\n",
    "                                   scoring='f1_weighted', n_iter=20, n_jobs=-1, cv=cv, random_state=None)\n",
    "\n",
    "random_search.fit(X_docs, y_docs)\n",
    "\n",
    "print(random_search.best_params_)\n",
    "print(random_search.best_score_)"
   ]
  },
  {
   "cell_type": "code",
   "execution_count": 167,
   "metadata": {},
   "outputs": [],
   "source": [
    "# import sklearn\n",
    "# sorted(sklearn.metrics.SCORERS.keys())"
   ]
  },
  {
   "cell_type": "code",
   "execution_count": 175,
   "metadata": {},
   "outputs": [
    {
     "name": "stdout",
     "output_type": "stream",
     "text": [
      "{'max_depth': 5, 'min_samples_split': 5, 'n_estimators': 50}\n",
      "0.23005182523197867\n",
      "Wall time: 11.4 s\n"
     ]
    }
   ],
   "source": [
    "%%time\n",
    "param_grid = {\n",
    "    'max_depth': randint(2, 8),\n",
    "    'min_samples_split': randint(5, 10),\n",
    "    'n_estimators':[5,50,100,500],\n",
    "    }\n",
    "\n",
    "cv = KFold(n_splits=5, random_state=None, shuffle=True)\n",
    "\n",
    "model_RF = RandomForestClassifier(random_state=123,\n",
    "                                  class_weight='balanced',\n",
    "                                  n_jobs=-1)\n",
    "\n",
    "random_search = RandomizedSearchCV(model_RF, param_distributions=param_grid,\n",
    "                                   scoring='f1_weighted', n_iter=20, n_jobs=-1, cv=cv, random_state=None)\n",
    "\n",
    "m = random_search.fit(X_wins, y_wins)\n",
    "\n",
    "print(random_search.best_params_)\n",
    "print(random_search.best_score_)"
   ]
  },
  {
   "cell_type": "code",
   "execution_count": 176,
   "metadata": {},
   "outputs": [],
   "source": [
    "model_best = RandomForestClassifier(random_state=123,\n",
    "                                  class_weight='balanced',\n",
    "                                  n_jobs=-1, max_depth=6, min_samples_split=6, n_estimators=500)"
   ]
  },
  {
   "cell_type": "code",
   "execution_count": 185,
   "metadata": {},
   "outputs": [
    {
     "data": {
      "text/plain": [
       "array(['blur', 'cbox_complete', 'change', 'click', 'close',\n",
       "       'contentbuilder', 'domcontentloaded', 'domnodeinserted', 'focus',\n",
       "       'gestureend', 'input', 'keydown', 'keypress', 'keyup', 'mousedown',\n",
       "       'mouseleave', 'mousemove', 'mouseup', 'pointerdown',\n",
       "       'readystatechange', 'scroll', 'selectionchange', 'submit',\n",
       "       'touchend', 'touchstart', 'visibilitychange',\n",
       "       'webkitvisibilitychange'], dtype='<U48')"
      ]
     },
     "execution_count": 185,
     "metadata": {},
     "output_type": "execute_result"
    }
   ],
   "source": [
    "model_best.fit(X_docs, y_docs)\n",
    "tmp = np.array(all_names_docs)\n",
    "tmp[model_best.feature_importances_ > 0.01]"
   ]
  },
  {
   "cell_type": "code",
   "execution_count": 186,
   "metadata": {},
   "outputs": [
    {
     "data": {
      "text/plain": [
       "array(['aftercreate', 'beforeclose', 'beforeunload', 'blur', 'click',\n",
       "       'dialog', 'domcontentloaded', 'error', 'focus', 'hashchange',\n",
       "       'htmlimportsloaded', 'keydown', 'keypress', 'keyup', 'load',\n",
       "       'message', 'mousedown', 'mousemove', 'orientationchange',\n",
       "       'pagehide', 'pageshow', 'popstate', 'resize', 'resizeend',\n",
       "       'scroll', 'touchstart', 'unload', 'webcomponentsready',\n",
       "       'ypopenpublishprojectmodalevent'], dtype='<U41')"
      ]
     },
     "execution_count": 186,
     "metadata": {},
     "output_type": "execute_result"
    }
   ],
   "source": [
    "model_best.fit(X_wins, y_wins)\n",
    "tmp = np.array(all_names_wins)\n",
    "tmp[model_best.feature_importances_ > 0.01]"
   ]
  },
  {
   "cell_type": "code",
   "execution_count": 130,
   "metadata": {},
   "outputs": [
    {
     "data": {
      "text/plain": [
       "((500, 505), (500, 328))"
      ]
     },
     "execution_count": 130,
     "metadata": {},
     "output_type": "execute_result"
    }
   ],
   "source": [
    "X_docs.shape, X_wins.shape "
   ]
  },
  {
   "cell_type": "code",
   "execution_count": 135,
   "metadata": {},
   "outputs": [],
   "source": [
    "X_docs_wins = np.concatenate((X_docs,X_wins),axis=1).shape"
   ]
  },
  {
   "cell_type": "code",
   "execution_count": null,
   "metadata": {},
   "outputs": [],
   "source": []
  },
  {
   "cell_type": "code",
   "execution_count": null,
   "metadata": {},
   "outputs": [],
   "source": []
  },
  {
   "cell_type": "code",
   "execution_count": 94,
   "metadata": {},
   "outputs": [],
   "source": [
    "import datetime\n",
    "import matplotlib.pyplot as plt \n",
    "import seaborn as sns\n",
    "from scipy import stats\n",
    "import statsmodels.api as sm\n",
    "import statsmodels.formula.api as smf\n",
    "from pylab import rcParams\n",
    "\n",
    "\n",
    "%matplotlib inline"
   ]
  },
  {
   "cell_type": "code",
   "execution_count": 95,
   "metadata": {},
   "outputs": [],
   "source": [
    "listener_names = ['angular', 'polymer', 'react', 'vue', 'wordpress',\n",
    "                  'joomla', 'drupal', 'django', 'laravel', 'corejs']"
   ]
  },
  {
   "cell_type": "code",
   "execution_count": 96,
   "metadata": {},
   "outputs": [],
   "source": [
    "all_names_docs, all_sums_docs = dataset_docs.count_vectorizer_names_sum()\n"
   ]
  },
  {
   "cell_type": "code",
   "execution_count": 97,
   "metadata": {},
   "outputs": [],
   "source": [
    "all_names_wins, all_sums_wins = dataset_wins.count_vectorizer_names_sum()"
   ]
  },
  {
   "cell_type": "code",
   "execution_count": 98,
   "metadata": {},
   "outputs": [],
   "source": [
    "common_names_docs = None\n",
    "lenghts_docs = []\n",
    "for i in range(10):\n",
    "    start = 50 * i\n",
    "    stop = 50 * (i + 1)\n",
    "    \n",
    "    vectorizer = CountVectorizer()\n",
    "    cluster = vectorizer.fit_transform(dataset_docs.corpus[start: stop])\n",
    "    lenghts_docs.append(np.asarray(cluster.sum(axis=0)).size)\n",
    "    \n",
    "    cur_names = vectorizer.get_feature_names()\n",
    "    if common_names_docs is None:\n",
    "        common_names_docs = set(cur_names)\n",
    "    else:\n",
    "        common_names_docs = common_names_docs.intersection(cur_names)\n"
   ]
  },
  {
   "cell_type": "code",
   "execution_count": 99,
   "metadata": {},
   "outputs": [],
   "source": [
    "common_names_wins = None\n",
    "lenghts_wins = []\n",
    "for i in range(10):\n",
    "    start = 50 * i\n",
    "    stop = 50 * (i + 1)\n",
    "    \n",
    "    vectorizer = CountVectorizer()\n",
    "    cluster = vectorizer.fit_transform(dataset_wins.corpus[start: stop])\n",
    "    lenghts_wins.append(np.asarray(cluster.sum(axis=0)).size)\n",
    "    \n",
    "    cur_names = vectorizer.get_feature_names()\n",
    "    if common_names_wins is None:\n",
    "        common_names_wins = set(cur_names)\n",
    "    else:\n",
    "        common_names_wins = common_names_wins.intersection(cur_names)"
   ]
  },
  {
   "cell_type": "code",
   "execution_count": 100,
   "metadata": {},
   "outputs": [
    {
     "name": "stdout",
     "output_type": "stream",
     "text": [
      "[('click', 929), ('domcontentloaded', 817), ('keydown', 543), ('mousedown', 375), ('touchstart', 298), ('visibilitychange', 286), ('keyup', 269), ('focus', 261), ('blur', 201), ('pointerdown', 195), ('mouseup', 181), ('readystatechange', 168), ('mousemove', 156), ('scroll', 155), ('keypress', 120), ('submit', 115), ('change', 102), ('mouseover', 98), ('touchend', 94), ('touchmove', 85), ('auxclick', 82), ('pointerup', 66), ('mouseout', 64), ('pointermove', 53), ('input', 49)] 25\n"
     ]
    }
   ],
   "source": [
    "common_names_count_docs = dict()\n",
    "for i, name in enumerate(all_names_docs):\n",
    "    if name in common_names_docs:\n",
    "        common_names_count_docs[name] = all_sums_docs[0][i]\n",
    "\n",
    "\n",
    "sorted_common_names_count_docs = sorted(common_names_count_docs.items(),\n",
    "                                        key=lambda key_value: key_value[1], reverse=True)\n",
    "print(sorted_common_names_count_docs, len(sorted_common_names_count_docs))"
   ]
  },
  {
   "cell_type": "code",
   "execution_count": 101,
   "metadata": {},
   "outputs": [
    {
     "name": "stdout",
     "output_type": "stream",
     "text": [
      "[('load', 2298), ('resize', 1669), ('message', 1483), ('scroll', 791), ('unload', 520), ('beforeunload', 469), ('pagehide', 316), ('popstate', 311), ('blur', 236), ('focus', 211), ('orientationchange', 205), ('error', 192), ('hashchange', 180), ('click', 133), ('keydown', 133), ('domcontentloaded', 91), ('mousedown', 77), ('keyup', 70), ('mousemove', 67), ('mouseup', 44), ('test', 40), ('touchend', 22)] 22\n"
     ]
    }
   ],
   "source": [
    "common_names_count_wins = dict()\n",
    "for i, name in enumerate(all_names_wins):\n",
    "    if name in common_names_wins:\n",
    "        common_names_count_wins[name] = all_sums_wins[0][i]\n",
    "\n",
    "\n",
    "sorted_common_names_count_wins = sorted(common_names_count_wins.items(),\n",
    "                                        key=lambda key_value: key_value[1], reverse=True)\n",
    "print(sorted_common_names_count_wins, len(sorted_common_names_count_wins))"
   ]
  },
  {
   "cell_type": "code",
   "execution_count": 110,
   "metadata": {},
   "outputs": [
    {
     "data": {
      "image/png": "[encoded data removed]",
      "text/plain": [
       "<Figure size 1080x504 with 2 Axes>"
      ]
     },
     "metadata": {},
     "output_type": "display_data"
    }
   ],
   "source": [
    "fig, axes = plt.subplots(1,2)\n",
    "fig.set_figheight(7)\n",
    "fig.set_figwidth(15)\n",
    "fig.suptitle(\"Top-10 обработчиков, встречающиеся во всех фреймворках\")\n",
    "\n",
    "axes[0].set_title('document')\n",
    "vals = []\n",
    "labels = []\n",
    "\n",
    "for item in sorted_common_names_count_docs[:10]:\n",
    "    labels.append(item[0])\n",
    "    vals.append(item[1])\n",
    "\n",
    "axes[0].pie(vals, labels=labels)\n",
    "axes[0].axis(\"equal\")\n",
    "\n",
    "\n",
    "axes[1].set_title('window')\n",
    "vals = []\n",
    "labels = []\n",
    "\n",
    "for item in sorted_common_names_count_wins[:10]:\n",
    "    labels.append(item[0])\n",
    "    vals.append(item[1])\n",
    "\n",
    "axes[1].pie(vals, labels=labels)\n",
    "axes[1].axis(\"equal\")\n",
    "\n",
    "plt.subplots_adjust(wspace=0.3, hspace=0.3)\n",
    "plt.show()"
   ]
  },
  {
   "cell_type": "code",
   "execution_count": 103,
   "metadata": {
    "scrolled": true
   },
   "outputs": [],
   "source": [
    "# plt.title(\"Число различных обработчиков для каждого фреймворка\")\n",
    "# plt.ylabel('Обработчик')\n",
    "# plt.xlabel('Фреймворк')\n",
    "# plt.bar(range(10), lenghts, width=0.8, tick_label=listener_names, color='gbymc')"
   ]
  },
  {
   "cell_type": "code",
   "execution_count": 104,
   "metadata": {},
   "outputs": [
    {
     "data": {
      "text/plain": [
       "<BarContainer object of 10 artists>"
      ]
     },
     "execution_count": 104,
     "metadata": {},
     "output_type": "execute_result"
    },
    {
     "data": {
      "image/png": "[encoded data removed]",
      "text/plain": [
       "<Figure size 1224x288 with 1 Axes>"
      ]
     },
     "metadata": {
      "needs_background": "light"
     },
     "output_type": "display_data"
    }
   ],
   "source": [
    "plt.figure(figsize=(17, 4))\n",
    "plt.title(\"Число различных обработчиков для каждого фреймворка - DOCS\")\n",
    "plt.ylabel('Фреймворк')\n",
    "plt.xlabel('Обработчик')\n",
    "plt.barh(y=range(10), width=lenghts_docs, height=0.8, tick_label=listener_names)"
   ]
  },
  {
   "cell_type": "code",
   "execution_count": 105,
   "metadata": {},
   "outputs": [
    {
     "data": {
      "text/plain": [
       "<BarContainer object of 10 artists>"
      ]
     },
     "execution_count": 105,
     "metadata": {},
     "output_type": "execute_result"
    },
    {
     "data": {
      "image/png": "[encoded data removed]",
      "text/plain": [
       "<Figure size 1224x288 with 1 Axes>"
      ]
     },
     "metadata": {
      "needs_background": "light"
     },
     "output_type": "display_data"
    }
   ],
   "source": [
    "plt.figure(figsize=(17, 4))\n",
    "plt.title(\"Число различных обработчиков для каждого фреймворка - WINS\")\n",
    "plt.ylabel('Фреймворк')\n",
    "plt.xlabel('Обработчик')\n",
    "plt.barh(y=range(10), width=lenghts_wins, height=0.8, tick_label=listener_names)"
   ]
  },
  {
   "cell_type": "code",
   "execution_count": 106,
   "metadata": {},
   "outputs": [],
   "source": [
    "# lenghts_wins[0]=222"
   ]
  },
  {
   "cell_type": "code",
   "execution_count": 108,
   "metadata": {},
   "outputs": [
    {
     "data": {
      "image/png": "[encoded data removed]",
      "text/plain": [
       "<Figure size 1224x432 with 1 Axes>"
      ]
     },
     "metadata": {
      "needs_background": "light"
     },
     "output_type": "display_data"
    }
   ],
   "source": [
    "fig, axes = plt.subplots()\n",
    "fig.set_figheight(6)\n",
    "fig.set_figwidth(17)\n",
    "\n",
    "fig.suptitle(\"Число различных обработчиков для каждого фреймворка\")\n",
    "axes.set_ylabel('Фреймворк')\n",
    "axes.set_xlabel('Обработчик')\n",
    "\n",
    "category_colors = plt.get_cmap('Blues_r')(\n",
    "        np.linspace(0.35, 0.55, 2))\n",
    "\n",
    "axes.barh(y=range(10), width=lenghts_docs, height=0.8, label='document', tick_label=listener_names, color=category_colors[0])\n",
    "axes.barh(y=range(10), width=lenghts_wins, height=0.8, label='window', tick_label=listener_names, color=category_colors[1])\n",
    "\n",
    "axes.legend()\n",
    "\n",
    "# fig.tight_layout()\n",
    "# plt.imshow(fig, cmap=plt.cm.binary)\n",
    "# plt.gray()\n",
    "plt.show()"
   ]
  },
  {
   "cell_type": "code",
   "execution_count": null,
   "metadata": {},
   "outputs": [],
   "source": []
  },
  {
   "cell_type": "code",
   "execution_count": null,
   "metadata": {},
   "outputs": [],
   "source": []
  }
 ],
 "metadata": {
  "kernelspec": {
   "display_name": "Python 3",
   "language": "python",
   "name": "python3"
  },
  "language_info": {
   "codemirror_mode": {
    "name": "ipython",
    "version": 3
   },
   "file_extension": ".py",
   "mimetype": "text/x-python",
   "name": "python",
   "nbconvert_exporter": "python",
   "pygments_lexer": "ipython3",
   "version": "3.7.3"
  }
 },
 "nbformat": 4,
 "nbformat_minor": 2
}
