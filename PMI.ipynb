{
 "cells": [
  {
   "cell_type": "code",
   "execution_count": 2,
   "metadata": {},
   "outputs": [],
   "source": [
    "import json\n",
    "import pandas as pd\n",
    "import numpy as np"
   ]
  },
  {
   "cell_type": "code",
   "execution_count": 3,
   "metadata": {},
   "outputs": [],
   "source": [
    "with open('../top1m_handlers_chromecontroller.txt', 'r') as f:\n",
    "    data = json.load(f)"
   ]
  },
  {
   "cell_type": "code",
   "execution_count": 4,
   "metadata": {},
   "outputs": [
    {
     "name": "stdout",
     "output_type": "stream",
     "text": [
      "1176\n"
     ]
    }
   ],
   "source": [
    "print(len(data))"
   ]
  },
  {
   "cell_type": "code",
   "execution_count": 5,
   "metadata": {},
   "outputs": [],
   "source": [
    "# url = list(data.keys())[100]"
   ]
  },
  {
   "cell_type": "code",
   "execution_count": 6,
   "metadata": {},
   "outputs": [],
   "source": [
    "docs = {}\n",
    "all_docs_listeners_types = set()"
   ]
  },
  {
   "cell_type": "code",
   "execution_count": 7,
   "metadata": {},
   "outputs": [
    {
     "data": {
      "text/plain": [
       "1039"
      ]
     },
     "execution_count": 7,
     "metadata": {},
     "output_type": "execute_result"
    }
   ],
   "source": [
    "for url, tpl in data.items():\n",
    "    listeners = tpl[0]['result']['listeners']\n",
    "    listeners_types = []\n",
    "    for listener in listeners:\n",
    "        l_type = listener['type']\n",
    "        all_docs_listeners_types.add(l_type)\n",
    "        listeners_types.append(l_type)\n",
    "    docs[url] = listeners_types\n",
    "#     print(docs[url])\n",
    "len(all_docs_listeners_types)"
   ]
  },
  {
   "cell_type": "code",
   "execution_count": 8,
   "metadata": {},
   "outputs": [],
   "source": [
    "# docs"
   ]
  },
  {
   "cell_type": "code",
   "execution_count": 9,
   "metadata": {},
   "outputs": [],
   "source": [
    "wins = {}\n",
    "all_wins_listeners_types = set()"
   ]
  },
  {
   "cell_type": "code",
   "execution_count": 10,
   "metadata": {},
   "outputs": [
    {
     "data": {
      "text/plain": [
       "985"
      ]
     },
     "execution_count": 10,
     "metadata": {},
     "output_type": "execute_result"
    }
   ],
   "source": [
    "for url, tpl in data.items():\n",
    "    listeners = tpl[1]['result']['listeners']\n",
    "    listeners_types = []\n",
    "    for listener in listeners:\n",
    "        l_type = listener['type']\n",
    "        all_wins_listeners_types.add(l_type)\n",
    "        listeners_types.append(l_type)\n",
    "    wins[url] = listeners_types\n",
    "#     print(docs[url])\n",
    "len(all_wins_listeners_types)"
   ]
  },
  {
   "cell_type": "code",
   "execution_count": 11,
   "metadata": {},
   "outputs": [],
   "source": [
    "# wins"
   ]
  },
  {
   "cell_type": "code",
   "execution_count": 12,
   "metadata": {},
   "outputs": [],
   "source": [
    "# angular_urls = pd.read_csv('../builtwith_statistics/woocommerce.csv', sep = '\\t')"
   ]
  },
  {
   "cell_type": "code",
   "execution_count": 13,
   "metadata": {},
   "outputs": [],
   "source": [
    "angular_df = pd.read_csv('../builtwith_statistics/All-Live-Angular-JS-Sites.csv', skiprows=1)\n",
    "polymer_df = pd.read_csv('../builtwith_statistics/All-Live-Polymer-Sites.csv', skiprows=1)\n",
    "react_df = pd.read_csv('../builtwith_statistics/All-Live-React-Sites.csv', skiprows=1)\n",
    "vue_df = pd.read_csv('../builtwith_statistics/All-Live-Vue-Sites.csv', skiprows=1)\n",
    "wordpress_df = pd.read_csv('../builtwith_statistics/All-Live-WordPress-Sites.csv', skiprows=1)\n",
    "joomla_df = pd.read_csv('../builtwith_statistics/All-Live-Joomla!-Sites.csv', skiprows=1)\n",
    "drupal_df = pd.read_csv('../builtwith_statistics/All-Live-Drupal-Sites.csv', skiprows=1)\n",
    "django_df = pd.read_csv('../builtwith_statistics/All-Live-Django-Language-Sites.csv', skiprows=1)\n",
    "laravel_df = pd.read_csv('../builtwith_statistics/All-Live-Laravel-Sites.csv', skiprows=1)\n",
    "corejs_df = pd.read_csv('../builtwith_statistics/All-Live-core-js-Sites.csv', skiprows=1)"
   ]
  },
  {
   "cell_type": "code",
   "execution_count": 14,
   "metadata": {},
   "outputs": [],
   "source": [
    "all_urls = set()\n",
    "angular_urls = set() \n",
    "polymer_urls = set()\n",
    "react_urls = set()\n",
    "vue_urls = set()\n",
    "wordpress_urls = set()\n",
    "joomla_urls = set()\n",
    "drupal_urls = set() \n",
    "django_urls = set()\n",
    "laravel_urls = set()\n",
    "corejs_urls = set()"
   ]
  },
  {
   "cell_type": "code",
   "execution_count": 15,
   "metadata": {},
   "outputs": [],
   "source": [
    "with open('angular_urls.txt', 'w') as f:\n",
    "    for urls in angular_df['Location on Site']:\n",
    "        angular_url = urls.replace('*', '').split(';')[0].replace(' mobile', '').replace('/', '')\n",
    "        all_urls.add(angular_url)\n",
    "        angular_urls.add(angular_url)\n",
    "        print(angular_urls, file = f)"
   ]
  },
  {
   "cell_type": "code",
   "execution_count": 16,
   "metadata": {},
   "outputs": [],
   "source": [
    "with open('polymer_urls.txt', 'w') as f:\n",
    "    for urls in polymer_df['Location on Site']:\n",
    "        polymer_url = urls.replace('*', '').split(';')[0].replace(' mobile', '').replace('/', '')\n",
    "        all_urls.add(polymer_url)\n",
    "        polymer_urls.add(polymer_url)\n",
    "        print(urls.replace('*', '').split(';')[0].replace(' mobile', '').replace('/', ''), file = f)"
   ]
  },
  {
   "cell_type": "code",
   "execution_count": 17,
   "metadata": {},
   "outputs": [],
   "source": [
    "with open('react_urls.txt', 'w') as f:\n",
    "    for urls in react_df['Location on Site']:\n",
    "        react_url = urls.replace('*', '').split(';')[0].replace(' mobile', '').replace('/', '')\n",
    "        react_urls.add(react_url)\n",
    "        all_urls.add(react_url)\n",
    "        print(urls.replace('*', '').split(';')[0].replace(' mobile', '').replace('/', ''), file = f)"
   ]
  },
  {
   "cell_type": "code",
   "execution_count": 18,
   "metadata": {},
   "outputs": [],
   "source": [
    "with open('vue_urls.txt', 'w') as f:\n",
    "    for urls in vue_df['Location on Site']:\n",
    "        vue_url = urls.replace('*', '').split(';')[0].replace(' mobile', '').replace('/', '')\n",
    "        all_urls.add(vue_url)\n",
    "        vue_urls.add(vue_url)\n",
    "        print(urls.replace('*', '').split(';')[0].replace(' mobile', '').replace('/', ''), file = f)"
   ]
  },
  {
   "cell_type": "code",
   "execution_count": 19,
   "metadata": {},
   "outputs": [],
   "source": [
    "with open('wordpress_urls.txt', 'w') as f:\n",
    "    for urls in wordpress_df['Location on Site']:\n",
    "        wordpress_url = urls.replace('*', '').split(';')[0].replace(' mobile', '').replace('/', '')\n",
    "        all_urls.add(wordpress_url)\n",
    "        wordpress_urls.add(wordpress_url)\n",
    "        print(urls.replace('*', '').split(';')[0].replace(' mobile', '').replace('/', ''), file = f)"
   ]
  },
  {
   "cell_type": "code",
   "execution_count": 20,
   "metadata": {},
   "outputs": [],
   "source": [
    "with open('joomla_urls.txt', 'w') as f:\n",
    "    for urls in joomla_df['Location on Site']:\n",
    "        joomla_url = urls.replace('*', '').split(';')[0].replace(' mobile', '').replace('/', '')\n",
    "        all_urls.add(joomla_url)\n",
    "        joomla_urls.add(joomla_url)\n",
    "        print(urls.replace('*', '').split(';')[0].replace(' mobile', '').replace('/', ''), file = f)"
   ]
  },
  {
   "cell_type": "code",
   "execution_count": 21,
   "metadata": {},
   "outputs": [],
   "source": [
    "with open('drupal_urls.txt', 'w') as f:\n",
    "    for urls in drupal_df['Location on Site']:\n",
    "        drupal_url = urls.replace('*', '').split(';')[0].replace(' mobile', '').replace('/', '')\n",
    "        all_urls.add(drupal_url)\n",
    "        drupal_urls.add(drupal_url)\n",
    "        print(urls.replace('*', '').split(';')[0].replace(' mobile', '').replace('/', ''), file = f)"
   ]
  },
  {
   "cell_type": "code",
   "execution_count": 22,
   "metadata": {},
   "outputs": [],
   "source": [
    "with open('django_urls.txt', 'w') as f:\n",
    "    for urls in django_df['Location on Site']:\n",
    "        django_url = urls.replace('*', '').split(';')[0].replace(' mobile', '').replace('/', '')\n",
    "        all_urls.add(django_url)\n",
    "        django_urls.add(django_url)\n",
    "        print(urls.replace('*', '').split(';')[0].replace(' mobile', '').replace('/', ''), file = f)"
   ]
  },
  {
   "cell_type": "code",
   "execution_count": 23,
   "metadata": {},
   "outputs": [],
   "source": [
    "with open('laravel_urls.txt', 'w') as f:\n",
    "    for urls in laravel_df['Location on Site']:\n",
    "        laravel_url = urls.replace('*', '').split(';')[0].replace(' mobile', '').replace('/', '')\n",
    "        all_urls.add(laravel_url)\n",
    "        laravel_urls.add(laravel_url)\n",
    "        print(urls.replace('*', '').split(';')[0].replace(' mobile', '').replace('/', ''), file = f)"
   ]
  },
  {
   "cell_type": "code",
   "execution_count": 24,
   "metadata": {},
   "outputs": [],
   "source": [
    "with open('corejs_urls.txt', 'w') as f:\n",
    "    for urls in corejs_df['Location on Site']:\n",
    "        corejs_url = urls.replace('*', '').split(';')[0].replace(' mobile', '').replace('/', '')\n",
    "        all_urls.add(corejs_url)\n",
    "        corejs_urls.add(corejs_url)\n",
    "        print(urls.replace('*', '').split(';')[0].replace(' mobile', '').replace('/', ''), file = f)"
   ]
  },
  {
   "cell_type": "code",
   "execution_count": null,
   "metadata": {},
   "outputs": [],
   "source": []
  },
  {
   "cell_type": "code",
   "execution_count": 25,
   "metadata": {},
   "outputs": [],
   "source": [
    "with open('all10_urls.txt', 'w') as f:\n",
    "    for urls in all_urls:\n",
    "        print(urls, file = f)"
   ]
  },
  {
   "cell_type": "code",
   "execution_count": 26,
   "metadata": {},
   "outputs": [
    {
     "data": {
      "text/plain": [
       "{1, 2, 3, 7}"
      ]
     },
     "execution_count": 26,
     "metadata": {},
     "output_type": "execute_result"
    }
   ],
   "source": [
    "a = {1,2}\n",
    "b = {1, 3,4}\n",
    "c = {1,4,7}\n",
    "a^b^c"
   ]
  },
  {
   "cell_type": "code",
   "execution_count": 27,
   "metadata": {},
   "outputs": [],
   "source": [
    "urls_symm_diff = angular_urls ^ polymer_urls ^ react_urls ^ vue_urls ^ wordpress_urls ^ joomla_urls ^ drupal_urls ^ django_urls ^ laravel_urls ^ corejs_urls\n",
    "urls_common = all_urls - urls_symm_diff"
   ]
  },
  {
   "cell_type": "code",
   "execution_count": 28,
   "metadata": {},
   "outputs": [
    {
     "name": "stdout",
     "output_type": "stream",
     "text": [
      "True\n",
      "True\n"
     ]
    }
   ],
   "source": [
    "url_to_class_dict = {}\n",
    "print('t-mobile.com' in all_urls)\n",
    "print('t-mobile.com' in urls_symm_diff)"
   ]
  },
  {
   "cell_type": "code",
   "execution_count": 29,
   "metadata": {},
   "outputs": [
    {
     "data": {
      "text/plain": [
       "{'adminctr.bleacherreport.com',\n",
       " 'alerta.khanacademy.org',\n",
       " 'answers.thenextweb.com',\n",
       " 'api.care.king.com',\n",
       " 'archives.newyorker.com',\n",
       " 'b2b.kbb.com',\n",
       " 'belk.com',\n",
       " 'bettycrocker.com',\n",
       " 'billboard.com',\n",
       " 'bizjournals.com',\n",
       " 'blog.creditkarma.com',\n",
       " 'bmwusa.com',\n",
       " 'bodybuilding.com',\n",
       " 'bookclubs.barnesandnoble.com',\n",
       " 'bradsdeals.com',\n",
       " 'braingames.nationalgeographic.com',\n",
       " 'capitalone.com',\n",
       " 'careers.tripadvisor.com',\n",
       " 'cars.com',\n",
       " 'cartwheel.target.com',\n",
       " 'cbc.ca',\n",
       " 'cdc.gov',\n",
       " 'charlotteobserver.com',\n",
       " 'chaseprivateclient.chase.com',\n",
       " 'chevrolet.com',\n",
       " 'chewy.com',\n",
       " 'chipotle.com',\n",
       " 'choicehotels.com',\n",
       " 'cisco.com',\n",
       " 'citi.com',\n",
       " 'cnet.com',\n",
       " 'community.newegg.com',\n",
       " 'consumercellular.com',\n",
       " 'creditcards.com',\n",
       " 'cvs.com',\n",
       " 'data.census.gov',\n",
       " 'delta.oxforddictionaries.com',\n",
       " 'develop.battle.net',\n",
       " 'dhds.cdc.gov',\n",
       " 'dvd.netflix.com',\n",
       " 'environment.capitalone.com',\n",
       " 'eu.battle.net',\n",
       " 'forums-es.bestbuy.com',\n",
       " 'hiring.baltimoresun.com',\n",
       " 'hiring.chicagotribune.com',\n",
       " 'hiring.nydailynews.com',\n",
       " 'hiring.orlandosentinel.com',\n",
       " 'insights.thepennyhoarder.com',\n",
       " 'internet.cox.com',\n",
       " 'ispspeedindex.netflix.com',\n",
       " 'kentucky.com',\n",
       " 'kohls.com',\n",
       " 'kroger.com',\n",
       " 'membership-prdv.navyfederal.org',\n",
       " 'mycostcoaccount.costco.com',\n",
       " 'nasdaq.com',\n",
       " 'ncaa.com',\n",
       " 'nesngo.nesn.com',\n",
       " 'newsobserver.com',\n",
       " 'nfl.com',\n",
       " 'nintendo.com',\n",
       " 'npr.org',\n",
       " 'nvidia.com',\n",
       " 'oreillyauto.com',\n",
       " 'parts.nissanusa.com',\n",
       " 'paypanel.chicagotribune.com',\n",
       " 'portal.office.com',\n",
       " 'premium.outlook.com',\n",
       " 'properties.chase.com',\n",
       " 'puzzles.chron.com',\n",
       " 'qa.talk.categories.collegeconfidential.com',\n",
       " 'reset.cbs.com',\n",
       " 'schedules.chewy.com',\n",
       " 'shop.newsweek.com',\n",
       " 'shopping.oregonlive.com',\n",
       " 'support.box.com',\n",
       " 'survey.bizrate.com',\n",
       " 'tableau-lle.kohls.com',\n",
       " 'tdameritrade.com',\n",
       " 'thestate.com',\n",
       " 'thestranger.com',\n",
       " 'timewarnercable.com',\n",
       " 'toyota.com',\n",
       " 'tracfone.com',\n",
       " 'trackpass.nascar.com',\n",
       " 'tripadvisor.com',\n",
       " 'tv.cbs.com',\n",
       " 'twentytwowords.com',\n",
       " 'university.thechive.com',\n",
       " 'vendor.tractorsupply.com',\n",
       " 'videos.techradar.com',\n",
       " 'watchlist.cnbc.com'}"
      ]
     },
     "execution_count": 29,
     "metadata": {},
     "output_type": "execute_result"
    }
   ],
   "source": [
    "vue_urls ^ angular_urls"
   ]
  },
  {
   "cell_type": "markdown",
   "metadata": {},
   "source": [
    "### Подготовка датасета"
   ]
  },
  {
   "cell_type": "code",
   "execution_count": 30,
   "metadata": {},
   "outputs": [],
   "source": [
    "from sklearn.feature_extraction.text import CountVectorizer"
   ]
  },
  {
   "cell_type": "code",
   "execution_count": 31,
   "metadata": {},
   "outputs": [],
   "source": [
    "class Dataset():\n",
    "\n",
    "    def __init__(self, filename, attr = 'docs'):\n",
    "        self.filename = filename\n",
    "        self.result_dict = {}\n",
    "        \n",
    "        urls =  list(angular_urls)  +\\\n",
    "                 list(polymer_urls) +\\\n",
    "                 list(react_urls) +\\\n",
    "                 list(vue_urls) +\\\n",
    "                 list(wordpress_urls) +\\\n",
    "                 list(joomla_urls) +\\\n",
    "                 list(drupal_urls)  +\\\n",
    "                 list(django_urls) +\\\n",
    "                 list(laravel_urls) +\\\n",
    "                 list(corejs_urls)\n",
    "            \n",
    "        with open(self.filename, 'r') as f:\n",
    "            self.data_json = json.load(f)\n",
    "        \n",
    "        attr_num = 0\n",
    "        if attr == 'docs':\n",
    "            attr_num = 0\n",
    "        elif attr == 'wins':\n",
    "            attr_num = 1\n",
    "        \n",
    "        for url, tpl in self.data_json.items():\n",
    "            listeners = tpl[attr_num]['result']['listeners']\n",
    "            listeners_types = []\n",
    "            for listener in listeners:\n",
    "                l_type = listener['type']\n",
    "                listeners_types.append(l_type)\n",
    "            self.result_dict[url] = listeners_types[:]\n",
    "            \n",
    "        self.corpus = []\n",
    "        self.target = []\n",
    "        for i,u in enumerate(urls):\n",
    "            self.corpus.append(' '.join(self.result_dict.get(\"https://\" + u.strip() + '/', [])))\n",
    "            self.target.append(i // 50)\n",
    "        self.target = np.array(self.target)\n",
    "            \n",
    "                \n",
    "    def count_vectorizer(self):\n",
    "#         corpus = [' '.join(lst) for lst in dataset_docs.result_dict.values()]\n",
    "        vectorizer = CountVectorizer()\n",
    "        X = vectorizer.fit_transform(self.corpus)\n",
    "        return X.toarray()\n",
    "    \n",
    "    def count_vectorizer_names_sum(self):\n",
    "        vectorizer = CountVectorizer()\n",
    "        clusters = vectorizer.fit_transform(self.corpus)\n",
    "        return vectorizer.get_feature_names(), np.asarray(clusters.sum(axis=0))\n",
    "    \n",
    "#     def target(self):\n",
    "#         return len(self.result_dict.keys())\n",
    "        "
   ]
  },
  {
   "cell_type": "code",
   "execution_count": 32,
   "metadata": {},
   "outputs": [],
   "source": [
    "dataset_docs = Dataset(\"all10_res.txt\", 'docs')\n",
    "X_docs = dataset_docs.count_vectorizer()\n",
    "y_docs = dataset_docs.target"
   ]
  },
  {
   "cell_type": "code",
   "execution_count": 33,
   "metadata": {},
   "outputs": [
    {
     "data": {
      "text/plain": [
       "((500, 505), (500,))"
      ]
     },
     "execution_count": 33,
     "metadata": {},
     "output_type": "execute_result"
    }
   ],
   "source": [
    "X_docs.shape, y_docs.shape"
   ]
  },
  {
   "cell_type": "code",
   "execution_count": 34,
   "metadata": {},
   "outputs": [],
   "source": [
    "dataset_wins = Dataset(\"all10_res.txt\", 'wins')\n",
    "X_wins = dataset_wins.count_vectorizer()\n",
    "y_wins = dataset_wins.target"
   ]
  },
  {
   "cell_type": "code",
   "execution_count": 35,
   "metadata": {},
   "outputs": [
    {
     "data": {
      "text/plain": [
       "((500, 328), (500,))"
      ]
     },
     "execution_count": 35,
     "metadata": {},
     "output_type": "execute_result"
    }
   ],
   "source": [
    "X_wins.shape, y_wins.shape"
   ]
  },
  {
   "cell_type": "code",
   "execution_count": 36,
   "metadata": {},
   "outputs": [],
   "source": [
    "# losses = []\n",
    "# predictions = {'id': test['id']}\n",
    "# for class_name in class_names:\n",
    "#     train_target = train[class_name]\n",
    "#     classifier = RandomForestClassifier(bootstrap=True, class_weight=None, criterion='gini',\n",
    "#             max_depth=100, max_features=1000, max_leaf_nodes=None,\n",
    "#             min_impurity_decrease=0.0, min_impurity_split=None,\n",
    "#             min_samples_leaf=3, min_samples_split=10,\n",
    "#             min_weight_fraction_leaf=0.0, n_estimators=10, n_jobs=1,\n",
    "#             oob_score=False, random_state=None, verbose=0,\n",
    "#             warm_start=False)\n",
    "\n",
    "#     cv_loss = np.mean(cross_val_score(classifier, train_features, train_target, cv=3, scoring='f1_micro'))\n",
    "#     losses.append(cv_loss)\n",
    "#     print('CV score for class {} is {}'.format(class_name, cv_loss))\n",
    "\n",
    "#     classifier.fit(train_features, train_target)\n",
    "#     predictions[class_name] = expit(logit(classifier.predict_proba(test_features)[:, 1]))\n",
    "\n",
    "# print('Total CV score is {}'.format(np.mean(losses)))"
   ]
  },
  {
   "cell_type": "code",
   "execution_count": 37,
   "metadata": {},
   "outputs": [],
   "source": [
    "from sklearn.ensemble import RandomForestClassifier"
   ]
  },
  {
   "cell_type": "code",
   "execution_count": 38,
   "metadata": {},
   "outputs": [],
   "source": [
    "# clf = RandomForestClassifier(max_depth=2, random_state=0)\n",
    "# clf.fit(X, y)"
   ]
  },
  {
   "cell_type": "code",
   "execution_count": 39,
   "metadata": {},
   "outputs": [],
   "source": [
    "from sklearn.datasets import load_wine\n",
    "from sklearn.ensemble import RandomForestClassifier\n",
    "from sklearn.metrics import accuracy_score, f1_score\n",
    "from sklearn.model_selection import KFold, train_test_split, GridSearchCV, RandomizedSearchCV\n",
    "from sklearn.tree import DecisionTreeClassifier\n",
    "\n",
    "from scipy.stats import randint as randint"
   ]
  },
  {
   "cell_type": "code",
   "execution_count": 40,
   "metadata": {},
   "outputs": [
    {
     "ename": "NameError",
     "evalue": "name 'X' is not defined",
     "output_type": "error",
     "traceback": [
      "\u001b[1;31m---------------------------------------------------------------------------\u001b[0m",
      "\u001b[1;31mNameError\u001b[0m                                 Traceback (most recent call last)",
      "\u001b[1;32m<timed exec>\u001b[0m in \u001b[0;36m<module>\u001b[1;34m\u001b[0m\n",
      "\u001b[1;31mNameError\u001b[0m: name 'X' is not defined"
     ]
    }
   ],
   "source": [
    "%%time\n",
    "param_grid = {\n",
    "    'max_depth': randint(2, 8),\n",
    "    'min_samples_split': randint(5, 10),\n",
    "    'n_estimators':[5,50,100,500],\n",
    "    }\n",
    "\n",
    "cv = KFold(n_splits=5, random_state=123, shuffle=True)\n",
    "\n",
    "model_RF = RandomForestClassifier(random_state=123,\n",
    "                                  class_weight='balanced',\n",
    "                                  n_jobs=-1)\n",
    "\n",
    "random_search = RandomizedSearchCV(model_RF, param_distributions=param_grid,\n",
    "                                   scoring='f1_weighted', n_iter=20, n_jobs=-1, cv=cv, random_state=123)\n",
    "\n",
    "random_search.fit(X, y)\n",
    "\n",
    "print(random_search.best_params_)\n",
    "print(random_search.best_score_)"
   ]
  },
  {
   "cell_type": "code",
   "execution_count": 41,
   "metadata": {},
   "outputs": [],
   "source": [
    "# import sklearn\n",
    "# sorted(sklearn.metrics.SCORERS.keys())"
   ]
  },
  {
   "cell_type": "code",
   "execution_count": null,
   "metadata": {},
   "outputs": [],
   "source": []
  },
  {
   "cell_type": "code",
   "execution_count": null,
   "metadata": {},
   "outputs": [],
   "source": []
  },
  {
   "cell_type": "code",
   "execution_count": null,
   "metadata": {},
   "outputs": [],
   "source": []
  },
  {
   "cell_type": "code",
   "execution_count": null,
   "metadata": {},
   "outputs": [],
   "source": []
  },
  {
   "cell_type": "code",
   "execution_count": null,
   "metadata": {},
   "outputs": [],
   "source": []
  },
  {
   "cell_type": "code",
   "execution_count": 42,
   "metadata": {},
   "outputs": [],
   "source": [
    "import datetime\n",
    "import matplotlib.pyplot as plt \n",
    "import seaborn as sns\n",
    "from scipy import stats\n",
    "import statsmodels.api as sm\n",
    "import statsmodels.formula.api as smf\n",
    "from pylab import rcParams\n",
    "\n",
    "\n",
    "%matplotlib inline"
   ]
  },
  {
   "cell_type": "code",
   "execution_count": 43,
   "metadata": {},
   "outputs": [],
   "source": [
    "listener_names = ['angular', 'polymer', 'react', 'vue', 'wordpress',\n",
    "                  'joomla', 'drupal', 'django', 'laravel', 'corejs']"
   ]
  },
  {
   "cell_type": "code",
   "execution_count": 44,
   "metadata": {},
   "outputs": [],
   "source": [
    "all_names_docs, all_sums_docs = dataset_docs.count_vectorizer_names_sum()\n"
   ]
  },
  {
   "cell_type": "code",
   "execution_count": 45,
   "metadata": {},
   "outputs": [],
   "source": [
    "all_names_wins, all_sums_wins = dataset_wins.count_vectorizer_names_sum()"
   ]
  },
  {
   "cell_type": "code",
   "execution_count": 46,
   "metadata": {},
   "outputs": [],
   "source": [
    "# all_names_docs[178]"
   ]
  },
  {
   "cell_type": "code",
   "execution_count": 47,
   "metadata": {},
   "outputs": [],
   "source": [
    "common_names_docs = None\n",
    "lenghts_docs = []\n",
    "for_clustering = []\n",
    "for_clustering_sums = []\n",
    "for i in range(10):\n",
    "    start = 50 * i\n",
    "    stop = 50 * (i + 1)\n",
    "    \n",
    "    vectorizer = CountVectorizer()\n",
    "    cluster = vectorizer.fit_transform(dataset_docs.corpus[start: stop])\n",
    "    lenghts_docs.append(np.asarray(cluster.sum(axis=0)).size)\n",
    "    \n",
    "    cur_names = vectorizer.get_feature_names()\n",
    "    for_clustering.append(cur_names)\n",
    "    for_clustering_sums.append(cluster.sum(axis=0))\n",
    "    if common_names_docs is None:\n",
    "        common_names_docs = set(cur_names)\n",
    "    else:\n",
    "        common_names_docs = common_names_docs.intersection(cur_names)\n"
   ]
  },
  {
   "cell_type": "code",
   "execution_count": 48,
   "metadata": {},
   "outputs": [],
   "source": [
    "common_names_wins = None\n",
    "lenghts_wins = []\n",
    "\n",
    "for i in range(10):\n",
    "    start = 50 * i\n",
    "    stop = 50 * (i + 1)\n",
    "    \n",
    "    vectorizer = CountVectorizer()\n",
    "    cluster = vectorizer.fit_transform(dataset_wins.corpus[start: stop])\n",
    "    lenghts_wins.append(np.asarray(cluster.sum(axis=0)).size)\n",
    "    \n",
    "    cur_names = vectorizer.get_feature_names()\n",
    "    if common_names_wins is None:\n",
    "        common_names_wins = set(cur_names)\n",
    "    else:\n",
    "        common_names_wins = common_names_wins.intersection(cur_names)"
   ]
  },
  {
   "cell_type": "code",
   "execution_count": 49,
   "metadata": {},
   "outputs": [
    {
     "data": {
      "text/plain": [
       "25"
      ]
     },
     "execution_count": 49,
     "metadata": {},
     "output_type": "execute_result"
    }
   ],
   "source": [
    "common_names_count_docs = dict()\n",
    "for i, name in enumerate(all_names_docs):\n",
    "    if name in common_names_docs:\n",
    "        common_names_count_docs[name] = all_sums_docs[0][i]\n",
    "\n",
    "\n",
    "sorted_common_names_count_docs = sorted(common_names_count_docs.items(),\n",
    "                                        key=lambda key_value: key_value[1], reverse=True)\n",
    "len(sorted_common_names_count_docs)"
   ]
  },
  {
   "cell_type": "code",
   "execution_count": 50,
   "metadata": {},
   "outputs": [
    {
     "data": {
      "text/plain": [
       "22"
      ]
     },
     "execution_count": 50,
     "metadata": {},
     "output_type": "execute_result"
    }
   ],
   "source": [
    "common_names_count_wins = dict()\n",
    "for i, name in enumerate(all_names_wins):\n",
    "    if name in common_names_wins:\n",
    "        common_names_count_wins[name] = all_sums_wins[0][i]\n",
    "\n",
    "\n",
    "sorted_common_names_count_wins = sorted(common_names_count_wins.items(),\n",
    "                                        key=lambda key_value: key_value[1], reverse=True)\n",
    "len(sorted_common_names_count_wins)"
   ]
  },
  {
   "cell_type": "code",
   "execution_count": 51,
   "metadata": {},
   "outputs": [],
   "source": [
    "df_docs = pd.DataFrame(sorted_common_names_count_docs, columns=['обработчик', 'количество'])\n",
    "# df_docs = df_docs.set_index('обработчик')\n",
    "df_wins = pd.DataFrame(sorted_common_names_count_wins, columns=['обработчик', 'количество'])\n",
    "# df_wins = df_wins.set_index('обработчик')"
   ]
  },
  {
   "cell_type": "code",
   "execution_count": 52,
   "metadata": {},
   "outputs": [
    {
     "data": {
      "text/html": [
       "<div>\n",
       "<style scoped>\n",
       "    .dataframe tbody tr th:only-of-type {\n",
       "        vertical-align: middle;\n",
       "    }\n",
       "\n",
       "    .dataframe tbody tr th {\n",
       "        vertical-align: top;\n",
       "    }\n",
       "\n",
       "    .dataframe thead th {\n",
       "        text-align: right;\n",
       "    }\n",
       "</style>\n",
       "<table border=\"1\" class=\"dataframe\">\n",
       "  <thead>\n",
       "    <tr style=\"text-align: right;\">\n",
       "      <th></th>\n",
       "      <th>обработчик</th>\n",
       "      <th>количество</th>\n",
       "    </tr>\n",
       "  </thead>\n",
       "  <tbody>\n",
       "    <tr>\n",
       "      <th>0</th>\n",
       "      <td>click</td>\n",
       "      <td>929</td>\n",
       "    </tr>\n",
       "    <tr>\n",
       "      <th>1</th>\n",
       "      <td>domcontentloaded</td>\n",
       "      <td>817</td>\n",
       "    </tr>\n",
       "    <tr>\n",
       "      <th>2</th>\n",
       "      <td>keydown</td>\n",
       "      <td>543</td>\n",
       "    </tr>\n",
       "    <tr>\n",
       "      <th>3</th>\n",
       "      <td>mousedown</td>\n",
       "      <td>375</td>\n",
       "    </tr>\n",
       "    <tr>\n",
       "      <th>4</th>\n",
       "      <td>touchstart</td>\n",
       "      <td>298</td>\n",
       "    </tr>\n",
       "    <tr>\n",
       "      <th>5</th>\n",
       "      <td>visibilitychange</td>\n",
       "      <td>286</td>\n",
       "    </tr>\n",
       "    <tr>\n",
       "      <th>6</th>\n",
       "      <td>keyup</td>\n",
       "      <td>269</td>\n",
       "    </tr>\n",
       "    <tr>\n",
       "      <th>7</th>\n",
       "      <td>focus</td>\n",
       "      <td>261</td>\n",
       "    </tr>\n",
       "  </tbody>\n",
       "</table>\n",
       "</div>"
      ],
      "text/plain": [
       "         обработчик  количество\n",
       "0             click         929\n",
       "1  domcontentloaded         817\n",
       "2           keydown         543\n",
       "3         mousedown         375\n",
       "4        touchstart         298\n",
       "5  visibilitychange         286\n",
       "6             keyup         269\n",
       "7             focus         261"
      ]
     },
     "execution_count": 52,
     "metadata": {},
     "output_type": "execute_result"
    }
   ],
   "source": [
    "df_docs[:8]"
   ]
  },
  {
   "cell_type": "code",
   "execution_count": 53,
   "metadata": {},
   "outputs": [
    {
     "data": {
      "text/html": [
       "<div>\n",
       "<style scoped>\n",
       "    .dataframe tbody tr th:only-of-type {\n",
       "        vertical-align: middle;\n",
       "    }\n",
       "\n",
       "    .dataframe tbody tr th {\n",
       "        vertical-align: top;\n",
       "    }\n",
       "\n",
       "    .dataframe thead th {\n",
       "        text-align: right;\n",
       "    }\n",
       "</style>\n",
       "<table border=\"1\" class=\"dataframe\">\n",
       "  <thead>\n",
       "    <tr style=\"text-align: right;\">\n",
       "      <th></th>\n",
       "      <th>обработчик</th>\n",
       "      <th>количество</th>\n",
       "    </tr>\n",
       "  </thead>\n",
       "  <tbody>\n",
       "    <tr>\n",
       "      <th>8</th>\n",
       "      <td>blur</td>\n",
       "      <td>201</td>\n",
       "    </tr>\n",
       "    <tr>\n",
       "      <th>9</th>\n",
       "      <td>pointerdown</td>\n",
       "      <td>195</td>\n",
       "    </tr>\n",
       "    <tr>\n",
       "      <th>10</th>\n",
       "      <td>mouseup</td>\n",
       "      <td>181</td>\n",
       "    </tr>\n",
       "    <tr>\n",
       "      <th>11</th>\n",
       "      <td>readystatechange</td>\n",
       "      <td>168</td>\n",
       "    </tr>\n",
       "    <tr>\n",
       "      <th>12</th>\n",
       "      <td>mousemove</td>\n",
       "      <td>156</td>\n",
       "    </tr>\n",
       "    <tr>\n",
       "      <th>13</th>\n",
       "      <td>scroll</td>\n",
       "      <td>155</td>\n",
       "    </tr>\n",
       "    <tr>\n",
       "      <th>14</th>\n",
       "      <td>keypress</td>\n",
       "      <td>120</td>\n",
       "    </tr>\n",
       "    <tr>\n",
       "      <th>15</th>\n",
       "      <td>submit</td>\n",
       "      <td>115</td>\n",
       "    </tr>\n",
       "  </tbody>\n",
       "</table>\n",
       "</div>"
      ],
      "text/plain": [
       "          обработчик  количество\n",
       "8               blur         201\n",
       "9        pointerdown         195\n",
       "10           mouseup         181\n",
       "11  readystatechange         168\n",
       "12         mousemove         156\n",
       "13            scroll         155\n",
       "14          keypress         120\n",
       "15            submit         115"
      ]
     },
     "execution_count": 53,
     "metadata": {},
     "output_type": "execute_result"
    }
   ],
   "source": [
    "df_docs[8:16]"
   ]
  },
  {
   "cell_type": "code",
   "execution_count": 54,
   "metadata": {},
   "outputs": [
    {
     "data": {
      "text/html": [
       "<div>\n",
       "<style scoped>\n",
       "    .dataframe tbody tr th:only-of-type {\n",
       "        vertical-align: middle;\n",
       "    }\n",
       "\n",
       "    .dataframe tbody tr th {\n",
       "        vertical-align: top;\n",
       "    }\n",
       "\n",
       "    .dataframe thead th {\n",
       "        text-align: right;\n",
       "    }\n",
       "</style>\n",
       "<table border=\"1\" class=\"dataframe\">\n",
       "  <thead>\n",
       "    <tr style=\"text-align: right;\">\n",
       "      <th></th>\n",
       "      <th>обработчик</th>\n",
       "      <th>количество</th>\n",
       "    </tr>\n",
       "  </thead>\n",
       "  <tbody>\n",
       "    <tr>\n",
       "      <th>16</th>\n",
       "      <td>change</td>\n",
       "      <td>102</td>\n",
       "    </tr>\n",
       "    <tr>\n",
       "      <th>17</th>\n",
       "      <td>mouseover</td>\n",
       "      <td>98</td>\n",
       "    </tr>\n",
       "    <tr>\n",
       "      <th>18</th>\n",
       "      <td>touchend</td>\n",
       "      <td>94</td>\n",
       "    </tr>\n",
       "    <tr>\n",
       "      <th>19</th>\n",
       "      <td>touchmove</td>\n",
       "      <td>85</td>\n",
       "    </tr>\n",
       "    <tr>\n",
       "      <th>20</th>\n",
       "      <td>auxclick</td>\n",
       "      <td>82</td>\n",
       "    </tr>\n",
       "    <tr>\n",
       "      <th>21</th>\n",
       "      <td>pointerup</td>\n",
       "      <td>66</td>\n",
       "    </tr>\n",
       "    <tr>\n",
       "      <th>22</th>\n",
       "      <td>mouseout</td>\n",
       "      <td>64</td>\n",
       "    </tr>\n",
       "    <tr>\n",
       "      <th>23</th>\n",
       "      <td>pointermove</td>\n",
       "      <td>53</td>\n",
       "    </tr>\n",
       "  </tbody>\n",
       "</table>\n",
       "</div>"
      ],
      "text/plain": [
       "     обработчик  количество\n",
       "16       change         102\n",
       "17    mouseover          98\n",
       "18     touchend          94\n",
       "19    touchmove          85\n",
       "20     auxclick          82\n",
       "21    pointerup          66\n",
       "22     mouseout          64\n",
       "23  pointermove          53"
      ]
     },
     "execution_count": 54,
     "metadata": {},
     "output_type": "execute_result"
    }
   ],
   "source": [
    "df_docs[16:24]"
   ]
  },
  {
   "cell_type": "code",
   "execution_count": 55,
   "metadata": {},
   "outputs": [
    {
     "data": {
      "text/html": [
       "<div>\n",
       "<style scoped>\n",
       "    .dataframe tbody tr th:only-of-type {\n",
       "        vertical-align: middle;\n",
       "    }\n",
       "\n",
       "    .dataframe tbody tr th {\n",
       "        vertical-align: top;\n",
       "    }\n",
       "\n",
       "    .dataframe thead th {\n",
       "        text-align: right;\n",
       "    }\n",
       "</style>\n",
       "<table border=\"1\" class=\"dataframe\">\n",
       "  <thead>\n",
       "    <tr style=\"text-align: right;\">\n",
       "      <th></th>\n",
       "      <th>обработчик</th>\n",
       "      <th>количество</th>\n",
       "    </tr>\n",
       "  </thead>\n",
       "  <tbody>\n",
       "    <tr>\n",
       "      <th>0</th>\n",
       "      <td>load</td>\n",
       "      <td>2298</td>\n",
       "    </tr>\n",
       "    <tr>\n",
       "      <th>1</th>\n",
       "      <td>resize</td>\n",
       "      <td>1669</td>\n",
       "    </tr>\n",
       "    <tr>\n",
       "      <th>2</th>\n",
       "      <td>message</td>\n",
       "      <td>1483</td>\n",
       "    </tr>\n",
       "    <tr>\n",
       "      <th>3</th>\n",
       "      <td>scroll</td>\n",
       "      <td>791</td>\n",
       "    </tr>\n",
       "    <tr>\n",
       "      <th>4</th>\n",
       "      <td>unload</td>\n",
       "      <td>520</td>\n",
       "    </tr>\n",
       "    <tr>\n",
       "      <th>5</th>\n",
       "      <td>beforeunload</td>\n",
       "      <td>469</td>\n",
       "    </tr>\n",
       "    <tr>\n",
       "      <th>6</th>\n",
       "      <td>pagehide</td>\n",
       "      <td>316</td>\n",
       "    </tr>\n",
       "    <tr>\n",
       "      <th>7</th>\n",
       "      <td>popstate</td>\n",
       "      <td>311</td>\n",
       "    </tr>\n",
       "  </tbody>\n",
       "</table>\n",
       "</div>"
      ],
      "text/plain": [
       "     обработчик  количество\n",
       "0          load        2298\n",
       "1        resize        1669\n",
       "2       message        1483\n",
       "3        scroll         791\n",
       "4        unload         520\n",
       "5  beforeunload         469\n",
       "6      pagehide         316\n",
       "7      popstate         311"
      ]
     },
     "execution_count": 55,
     "metadata": {},
     "output_type": "execute_result"
    }
   ],
   "source": [
    "df_wins[:8]"
   ]
  },
  {
   "cell_type": "code",
   "execution_count": 56,
   "metadata": {},
   "outputs": [
    {
     "data": {
      "text/html": [
       "<div>\n",
       "<style scoped>\n",
       "    .dataframe tbody tr th:only-of-type {\n",
       "        vertical-align: middle;\n",
       "    }\n",
       "\n",
       "    .dataframe tbody tr th {\n",
       "        vertical-align: top;\n",
       "    }\n",
       "\n",
       "    .dataframe thead th {\n",
       "        text-align: right;\n",
       "    }\n",
       "</style>\n",
       "<table border=\"1\" class=\"dataframe\">\n",
       "  <thead>\n",
       "    <tr style=\"text-align: right;\">\n",
       "      <th></th>\n",
       "      <th>обработчик</th>\n",
       "      <th>количество</th>\n",
       "    </tr>\n",
       "  </thead>\n",
       "  <tbody>\n",
       "    <tr>\n",
       "      <th>8</th>\n",
       "      <td>blur</td>\n",
       "      <td>236</td>\n",
       "    </tr>\n",
       "    <tr>\n",
       "      <th>9</th>\n",
       "      <td>focus</td>\n",
       "      <td>211</td>\n",
       "    </tr>\n",
       "    <tr>\n",
       "      <th>10</th>\n",
       "      <td>orientationchange</td>\n",
       "      <td>205</td>\n",
       "    </tr>\n",
       "    <tr>\n",
       "      <th>11</th>\n",
       "      <td>error</td>\n",
       "      <td>192</td>\n",
       "    </tr>\n",
       "    <tr>\n",
       "      <th>12</th>\n",
       "      <td>hashchange</td>\n",
       "      <td>180</td>\n",
       "    </tr>\n",
       "    <tr>\n",
       "      <th>13</th>\n",
       "      <td>click</td>\n",
       "      <td>133</td>\n",
       "    </tr>\n",
       "    <tr>\n",
       "      <th>14</th>\n",
       "      <td>keydown</td>\n",
       "      <td>133</td>\n",
       "    </tr>\n",
       "    <tr>\n",
       "      <th>15</th>\n",
       "      <td>domcontentloaded</td>\n",
       "      <td>91</td>\n",
       "    </tr>\n",
       "  </tbody>\n",
       "</table>\n",
       "</div>"
      ],
      "text/plain": [
       "           обработчик  количество\n",
       "8                blur         236\n",
       "9               focus         211\n",
       "10  orientationchange         205\n",
       "11              error         192\n",
       "12         hashchange         180\n",
       "13              click         133\n",
       "14            keydown         133\n",
       "15   domcontentloaded          91"
      ]
     },
     "execution_count": 56,
     "metadata": {},
     "output_type": "execute_result"
    }
   ],
   "source": [
    "df_wins[8:16]"
   ]
  },
  {
   "cell_type": "code",
   "execution_count": 57,
   "metadata": {},
   "outputs": [
    {
     "data": {
      "text/html": [
       "<div>\n",
       "<style scoped>\n",
       "    .dataframe tbody tr th:only-of-type {\n",
       "        vertical-align: middle;\n",
       "    }\n",
       "\n",
       "    .dataframe tbody tr th {\n",
       "        vertical-align: top;\n",
       "    }\n",
       "\n",
       "    .dataframe thead th {\n",
       "        text-align: right;\n",
       "    }\n",
       "</style>\n",
       "<table border=\"1\" class=\"dataframe\">\n",
       "  <thead>\n",
       "    <tr style=\"text-align: right;\">\n",
       "      <th></th>\n",
       "      <th>обработчик</th>\n",
       "      <th>количество</th>\n",
       "    </tr>\n",
       "  </thead>\n",
       "  <tbody>\n",
       "    <tr>\n",
       "      <th>16</th>\n",
       "      <td>mousedown</td>\n",
       "      <td>77</td>\n",
       "    </tr>\n",
       "    <tr>\n",
       "      <th>17</th>\n",
       "      <td>keyup</td>\n",
       "      <td>70</td>\n",
       "    </tr>\n",
       "    <tr>\n",
       "      <th>18</th>\n",
       "      <td>mousemove</td>\n",
       "      <td>67</td>\n",
       "    </tr>\n",
       "    <tr>\n",
       "      <th>19</th>\n",
       "      <td>mouseup</td>\n",
       "      <td>44</td>\n",
       "    </tr>\n",
       "    <tr>\n",
       "      <th>20</th>\n",
       "      <td>test</td>\n",
       "      <td>40</td>\n",
       "    </tr>\n",
       "    <tr>\n",
       "      <th>21</th>\n",
       "      <td>touchend</td>\n",
       "      <td>22</td>\n",
       "    </tr>\n",
       "  </tbody>\n",
       "</table>\n",
       "</div>"
      ],
      "text/plain": [
       "   обработчик  количество\n",
       "16  mousedown          77\n",
       "17      keyup          70\n",
       "18  mousemove          67\n",
       "19    mouseup          44\n",
       "20       test          40\n",
       "21   touchend          22"
      ]
     },
     "execution_count": 57,
     "metadata": {},
     "output_type": "execute_result"
    }
   ],
   "source": [
    "df_wins[16:]"
   ]
  },
  {
   "cell_type": "code",
   "execution_count": null,
   "metadata": {},
   "outputs": [],
   "source": []
  },
  {
   "cell_type": "code",
   "execution_count": 58,
   "metadata": {},
   "outputs": [
    {
     "data": {
      "image/png": "[encoded data removed]",
      "text/plain": [
       "<Figure size 1440x720 with 2 Axes>"
      ]
     },
     "metadata": {},
     "output_type": "display_data"
    }
   ],
   "source": [
    "fig, axes = plt.subplots(1,2)\n",
    "fig.set_figheight(10)\n",
    "fig.set_figwidth(20)\n",
    "fig.suptitle(\"Top-10 обработчиков, встречающиеся во всех фреймворках\")\n",
    "\n",
    "axes[0].set_title('DOCS')\n",
    "vals = []\n",
    "labels = []\n",
    "\n",
    "for item in sorted_common_names_count_docs[:10]:\n",
    "    labels.append(item[0])\n",
    "    vals.append(item[1])\n",
    "\n",
    "axes[0].pie(vals, labels=labels)\n",
    "axes[0].axis(\"equal\")\n",
    "\n",
    "\n",
    "axes[1].set_title('WINS')\n",
    "vals = []\n",
    "labels = []\n",
    "\n",
    "for item in sorted_common_names_count_wins[:10]:\n",
    "    labels.append(item[0])\n",
    "    vals.append(item[1])\n",
    "\n",
    "axes[1].pie(vals, labels=labels)\n",
    "axes[1].axis(\"equal\")\n",
    "\n",
    "plt.subplots_adjust(wspace=0.3, hspace=0.3)\n",
    "plt.show()"
   ]
  },
  {
   "cell_type": "code",
   "execution_count": 59,
   "metadata": {
    "scrolled": true
   },
   "outputs": [],
   "source": [
    "# plt.title(\"Число различных обработчиков для каждого фреймворка\")\n",
    "# plt.ylabel('Обработчик')\n",
    "# plt.xlabel('Фреймворк')\n",
    "# plt.bar(range(10), lenghts, width=0.8, tick_label=listener_names, color='gbymc')"
   ]
  },
  {
   "cell_type": "code",
   "execution_count": 60,
   "metadata": {},
   "outputs": [
    {
     "data": {
      "text/plain": [
       "<BarContainer object of 10 artists>"
      ]
     },
     "execution_count": 60,
     "metadata": {},
     "output_type": "execute_result"
    },
    {
     "data": {
      "image/png": "[encoded data removed]",
      "text/plain": [
       "<Figure size 1224x288 with 1 Axes>"
      ]
     },
     "metadata": {
      "needs_background": "light"
     },
     "output_type": "display_data"
    }
   ],
   "source": [
    "plt.figure(figsize=(17, 4))\n",
    "plt.title(\"Число различных обработчиков для каждого фреймворка - DOCS\")\n",
    "plt.ylabel('Фреймворк')\n",
    "plt.xlabel('Обработчик')\n",
    "plt.barh(y=range(10), width=lenghts_docs, height=0.8, tick_label=listener_names)"
   ]
  },
  {
   "cell_type": "code",
   "execution_count": 61,
   "metadata": {},
   "outputs": [
    {
     "data": {
      "text/plain": [
       "<BarContainer object of 10 artists>"
      ]
     },
     "execution_count": 61,
     "metadata": {},
     "output_type": "execute_result"
    },
    {
     "data": {
      "image/png": "[encoded data removed]",
      "text/plain": [
       "<Figure size 1224x288 with 1 Axes>"
      ]
     },
     "metadata": {
      "needs_background": "light"
     },
     "output_type": "display_data"
    }
   ],
   "source": [
    "plt.figure(figsize=(17, 4))\n",
    "plt.title(\"Число различных обработчиков для каждого фреймворка - WINS\")\n",
    "plt.ylabel('Фреймворк')\n",
    "plt.xlabel('Обработчик')\n",
    "plt.barh(y=range(10), width=lenghts_wins, height=0.8, tick_label=listener_names)"
   ]
  },
  {
   "cell_type": "code",
   "execution_count": 62,
   "metadata": {},
   "outputs": [],
   "source": [
    "# lenghts_wins[0]=222"
   ]
  },
  {
   "cell_type": "code",
   "execution_count": 63,
   "metadata": {},
   "outputs": [
    {
     "data": {
      "image/png": "[encoded data removed]",
      "text/plain": [
       "<Figure size 1224x432 with 1 Axes>"
      ]
     },
     "metadata": {
      "needs_background": "light"
     },
     "output_type": "display_data"
    }
   ],
   "source": [
    "fig, axes = plt.subplots()\n",
    "fig.set_figheight(6)\n",
    "fig.set_figwidth(17)\n",
    "\n",
    "fig.suptitle(\"Число различных обработчиков для каждого фреймворка\")\n",
    "axes.set_ylabel('Фреймворк')\n",
    "axes.set_xlabel('Обработчик')\n",
    "\n",
    "category_colors = plt.get_cmap('Blues_r')(\n",
    "        np.linspace(0.35, 0.55, 2))\n",
    "\n",
    "axes.barh(y=range(10), width=lenghts_docs, height=0.8, label='DOCS', tick_label=listener_names, color=category_colors[0])\n",
    "axes.barh(y=range(10), width=lenghts_wins, height=0.8, label='WINS', tick_label=listener_names, color=category_colors[1])\n",
    "\n",
    "axes.legend()\n",
    "\n",
    "# fig.tight_layout()\n",
    "# plt.imshow(fig, cmap=plt.cm.binary)\n",
    "# plt.gray()\n",
    "plt.show()"
   ]
  },
  {
   "cell_type": "markdown",
   "metadata": {},
   "source": [
    "### PMI"
   ]
  },
  {
   "cell_type": "code",
   "execution_count": 71,
   "metadata": {},
   "outputs": [],
   "source": [
    "# from wordcloud import WordCloud\n",
    "# from matplotlib.pyplot import figure"
   ]
  },
  {
   "cell_type": "code",
   "execution_count": 72,
   "metadata": {},
   "outputs": [
    {
     "data": {
      "text/plain": [
       "500"
      ]
     },
     "execution_count": 72,
     "metadata": {},
     "output_type": "execute_result"
    }
   ],
   "source": [
    "doc2words_docs = {}\n",
    "\n",
    "for i, line in enumerate(dataset_docs.corpus):\n",
    "    doc2words_docs[i] = set(line.split()+[listener_names[i//50]])\n",
    "    \n",
    "len(doc2words_docs)"
   ]
  },
  {
   "cell_type": "code",
   "execution_count": 73,
   "metadata": {},
   "outputs": [
    {
     "name": "stdout",
     "output_type": "stream",
     "text": [
      "0\n"
     ]
    }
   ],
   "source": [
    "pairs_count_docs = {}\n",
    "word_count_docs = {}\n",
    "for k, new_doc in enumerate(doc2words_docs):\n",
    "    if k % 10000 == 0:\n",
    "        print (k)\n",
    "    words = list(doc2words_docs[new_doc])\n",
    "    for i in range(len(words)):\n",
    "        i_word = words[i]\n",
    "        if i_word not in word_count_docs:\n",
    "            word_count_docs[i_word] = 0\n",
    "        word_count_docs[i_word] += 1\n",
    "        for j in range(i + 1, len(words)):\n",
    "            j_word = words[j]\n",
    "            assert (i_word != j_word)\n",
    "            if i_word < j_word:\n",
    "                pair = (i_word, j_word)\n",
    "            else:\n",
    "                pair = (j_word, i_word)\n",
    "            if pair not in pairs_count_docs:\n",
    "                pairs_count_docs[pair] = 0\n",
    "            pairs_count_docs[pair] += 1"
   ]
  },
  {
   "cell_type": "code",
   "execution_count": 74,
   "metadata": {},
   "outputs": [
    {
     "data": {
      "text/plain": [
       "500"
      ]
     },
     "execution_count": 74,
     "metadata": {},
     "output_type": "execute_result"
    }
   ],
   "source": [
    "doc2words_wins = {}\n",
    "\n",
    "for i, line in enumerate(dataset_wins.corpus):\n",
    "    doc2words_wins[i] = set(line.split()+[listener_names[i//50]])\n",
    "    \n",
    "len(doc2words_wins)"
   ]
  },
  {
   "cell_type": "code",
   "execution_count": 75,
   "metadata": {},
   "outputs": [
    {
     "name": "stdout",
     "output_type": "stream",
     "text": [
      "0\n"
     ]
    }
   ],
   "source": [
    "pairs_count_wins = {}\n",
    "word_count_wins = {}\n",
    "for k, new_doc in enumerate(doc2words_wins):\n",
    "    if k % 10000 == 0:\n",
    "        print (k)\n",
    "    words = list(doc2words_wins[new_doc])\n",
    "    for i in range(len(words)):\n",
    "        i_word = words[i]\n",
    "        if i_word not in word_count_wins:\n",
    "            word_count_wins[i_word] = 0\n",
    "        word_count_wins[i_word] += 1\n",
    "        for j in range(i + 1, len(words)):\n",
    "            j_word = words[j]\n",
    "            assert (i_word != j_word)\n",
    "            if i_word < j_word:\n",
    "                pair = (i_word, j_word)\n",
    "            else:\n",
    "                pair = (j_word, i_word)\n",
    "            if pair not in pairs_count_wins:\n",
    "                pairs_count_wins[pair] = 0\n",
    "            pairs_count_wins[pair] += 1"
   ]
  },
  {
   "cell_type": "code",
   "execution_count": 76,
   "metadata": {},
   "outputs": [],
   "source": [
    "def make_cloud(pairs_count, word_count, test_word='django'):\n",
    "    scores = []\n",
    "    REG_THR = 3\n",
    "    REG_THR_2 = 0.001\n",
    "    for i in pairs_count:\n",
    "        if pairs_count[i] < REG_THR:\n",
    "            continue\n",
    "        score = pairs_count[i] / (word_count[i[0]] * word_count[i[1]])\n",
    "        if score < REG_THR_2:\n",
    "            continue\n",
    "        if i[0] == test_word:\n",
    "            scores.append((score, i[1]))\n",
    "        if i[1] == test_word:\n",
    "            scores.append((score, i[0]))\n",
    "    \n",
    "#     top_sim_docs_ = [(i[1], i[0]) for i in sorted(scores, reverse=True)][0:20]\n",
    "    top_sim_docs = [i[1] for i in sorted(scores, reverse=True)][0:7]\n",
    "    print(top_sim_docs)\n",
    "    all_words = \"\"\n",
    "    for i in top_sim_docs:\n",
    "        all_words += \" \" + i\n",
    "    \n",
    "#     wordcloud = WordCloud(background_color='white',\n",
    "#                       max_font_size=80).generate(all_words)\n",
    "#     figure(num=None, figsize=(10, 5), dpi=80, facecolor='w', edgecolor='k')\n",
    "#     plt.imshow(wordcloud)\n",
    "#     plt.axis(\"off\")\n",
    "#     plt.show()\n",
    "    \n",
    "#     print(wordcloud.words_) "
   ]
  },
  {
   "cell_type": "code",
   "execution_count": 77,
   "metadata": {},
   "outputs": [
    {
     "name": "stdout",
     "output_type": "stream",
     "text": [
      "django\n",
      "['dblclick', 'paste', 'MSFullscreenChange', 'mozfullscreenchange', 'webkitfullscreenchange', 'auxclick', 'fullscreenchange']\n",
      "['test', 'popstate', 'click', 'hashchange', 'load', 'unload', 'message']\n"
     ]
    }
   ],
   "source": [
    "# listener_names = ['angular', 'polymer', 'react', 'vue', 'wordpress',\n",
    "#                   'joomla', 'drupal', 'django', 'laravel', 'corejs']\n",
    "\n",
    "number_ = 7\n",
    "print(listener_names[number_])\n",
    "\n",
    "make_cloud(pairs_count_docs, word_count_docs, listener_names[number_])\n",
    "make_cloud(pairs_count_wins, word_count_wins, listener_names[number_])\n",
    "\n",
    "# print(for_clustering[number_])\n",
    "# print(for_clustering_sums[number_])"
   ]
  },
  {
   "cell_type": "code",
   "execution_count": 78,
   "metadata": {},
   "outputs": [
    {
     "name": "stdout",
     "output_type": "stream",
     "text": [
      "['ajax:send', 'ajax:complete', 'reset', 'mouseenter', 'idle', 'active', 'DOMMouseScroll']\n",
      "['touchend', 'touchmove', 'deviceorientation', 'touchstart', 'mouseup', 'storage', 'pageshow']\n"
     ]
    }
   ],
   "source": [
    "make_cloud(pairs_count_docs, word_count_docs, listener_names[0])\n",
    "make_cloud(pairs_count_wins, word_count_wins, listener_names[0])"
   ]
  },
  {
   "cell_type": "code",
   "execution_count": 79,
   "metadata": {},
   "outputs": [
    {
     "name": "stdout",
     "output_type": "stream",
     "text": [
      "angular\n",
      "['ajax:send', 'ajax:complete', 'reset', 'mouseenter', 'idle', 'active', 'DOMMouseScroll']\n",
      "['touchend', 'touchmove', 'deviceorientation', 'touchstart', 'mouseup', 'storage', 'pageshow']\n",
      "polymer\n",
      "['pointercancel', 'pointermove', 'pointerup', 'touchend', 'mouseout', 'click', 'DOMContentLoaded']\n",
      "['ypOpenPublishProjectModalEvent', 'WebComponentsReady', 'HTMLImportsLoaded', 'wheel', 'keyup', 'DOMContentLoaded', 'mousedown']\n",
      "react\n",
      "['webdriverCommand', 'selenium-evaluate', 'driver-evaluate', 'ajaxComplete', 'mouseenter', 'selectionchange', 'input']\n",
      "['devicemotion', 'deviceorientation', 'unhandledrejection', 'offline', 'pan', 'consent.onetrust', 'zoom']\n",
      "vue\n",
      "['show', 'pointercancel', 'at-request-succeeded', 'animationend', 'submit', 'transitionend', 'load']\n",
      "['offline', 'online', 'deviceorientation', 'pageshow', 'blur', 'focus', 'error']\n",
      "wordpress\n",
      "['idle', 'active', 'DOMMouseScroll', 'mousewheel', 'contextmenu', 'webdriver-evaluate-response', 'webdriver-evaluate']\n",
      "['storage', 'pointerdown', 'touchstart', 'visibilitychange', 'resume', 'mousedown', 'freeze']\n",
      "joomla\n",
      "['gestureend', 'scrolling', 'domready', 'cbox_open', 'MSGestureEnd', 'MSPointerUp', 'MSPointerMove']\n",
      "['touchmove', 'mousewheel', 'scroll', 'resize', 'orientationchange', 'load', 'unload']\n",
      "drupal\n",
      "['DOMNodeInserted', 'close', 'cbox_complete', 'show', 'hidden', 'webkitAnimationEnd', 'transitionend']\n",
      "['resizeEnd', 'redraw', 'changed', 'dialog:beforeclose', 'dialog:aftercreate', 'orientationChange', 'wheel']\n",
      "django\n",
      "['dblclick', 'paste', 'MSFullscreenChange', 'mozfullscreenchange', 'webkitfullscreenchange', 'auxclick', 'fullscreenchange']\n",
      "['test', 'popstate', 'click', 'hashchange', 'load', 'unload', 'message']\n",
      "laravel\n",
      "['contentBuilder:ready', 'mouseleave', 'ready', 'webkitvisibilitychange', 'MSFullscreenChange', 'hidden', 'mozfullscreenchange']\n",
      "['keypress', 'visibilitychange', 'mousemove', 'orientationchange', 'click', 'load', 'test']\n",
      "corejs\n",
      "['sp.blocking', 'at-request-succeeded', 'keypress', 'webdriver-evaluate-response', 'scroll', 'webdriver-evaluate', 'visibilitychange']\n",
      "['consent.onetrust', 'focusin', 'pointerdown', 'keypress', 'online', 'deviceorientation', 'resume']\n"
     ]
    }
   ],
   "source": [
    "for i in range(10):\n",
    "    print(listener_names[i])\n",
    "    make_cloud(pairs_count_docs, word_count_docs, listener_names[i])\n",
    "    make_cloud(pairs_count_wins, word_count_wins, listener_names[i])"
   ]
  },
  {
   "cell_type": "code",
   "execution_count": null,
   "metadata": {},
   "outputs": [],
   "source": []
  }
 ],
 "metadata": {
  "kernelspec": {
   "display_name": "Python 3",
   "language": "python",
   "name": "python3"
  },
  "language_info": {
   "codemirror_mode": {
    "name": "ipython",
    "version": 3
   },
   "file_extension": ".py",
   "mimetype": "text/x-python",
   "name": "python",
   "nbconvert_exporter": "python",
   "pygments_lexer": "ipython3",
   "version": "3.7.3"
  }
 },
 "nbformat": 4,
 "nbformat_minor": 2
}
